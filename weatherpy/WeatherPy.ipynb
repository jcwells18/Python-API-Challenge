{
 "cells": [
  {
   "cell_type": "markdown",
   "metadata": {},
   "source": [
    "# WeatherPy\n",
    "----\n",
    "\n",
    "#### Note\n",
    "* Instructions have been included for each segment. You do not have to follow them exactly, but they are included to help you think through the steps."
   ]
  },
  {
   "cell_type": "code",
   "execution_count": 1,
   "metadata": {
    "scrolled": true
   },
   "outputs": [],
   "source": [
    "# Dependencies and Setup\n",
    "import matplotlib.pyplot as plt\n",
    "import pandas as pd\n",
    "import numpy as np\n",
    "import requests\n",
    "import time\n",
    "import json\n",
    "import scipy.stats as st\n",
    "from scipy.stats import linregress\n",
    "\n",
    "# Import API key\n",
    "from api_keys import weather_api_key\n",
    "\n",
    "# Incorporated citipy to determine city based on latitude and longitude\n",
    "from citipy import citipy\n",
    "\n",
    "# Output File (CSV)\n",
    "output_data_file = \"../output_data/cities.csv\"\n",
    "\n",
    "# Range of latitudes and longitudes\n",
    "lat_range = (-90, 90)\n",
    "lng_range = (-180, 180)"
   ]
  },
  {
   "cell_type": "markdown",
   "metadata": {},
   "source": [
    "## Generate Cities List"
   ]
  },
  {
   "cell_type": "code",
   "execution_count": 2,
   "metadata": {},
   "outputs": [
    {
     "data": {
      "text/plain": [
       "608"
      ]
     },
     "execution_count": 2,
     "metadata": {},
     "output_type": "execute_result"
    }
   ],
   "source": [
    "# List for holding lat_lngs and cities\n",
    "lat_lngs = []\n",
    "cities = []\n",
    "\n",
    "# Create a set of random lat and lng combinations\n",
    "lats = np.random.uniform(lat_range[0], lat_range[1], size=1500)\n",
    "lngs = np.random.uniform(lng_range[0], lng_range[1], size=1500)\n",
    "lat_lngs = zip(lats, lngs)\n",
    "\n",
    "# Identify nearest city for each lat, lng combination\n",
    "for lat_lng in lat_lngs:\n",
    "    city = citipy.nearest_city(lat_lng[0], lat_lng[1]).city_name\n",
    "    \n",
    "    # If the city is unique, then add it to a our cities list\n",
    "    if city not in cities:\n",
    "        cities.append(city)\n",
    "\n",
    "# Print the city count to confirm sufficient count\n",
    "len(cities)"
   ]
  },
  {
   "cell_type": "markdown",
   "metadata": {},
   "source": [
    "### Perform API Calls\n",
    "* Perform a weather check on each city using a series of successive API calls.\n",
    "* Include a print log of each city as it'sbeing processed (with the city number and city name).\n"
   ]
  },
  {
   "cell_type": "code",
   "execution_count": 3,
   "metadata": {
    "scrolled": true
   },
   "outputs": [],
   "source": [
    "#save config info\n",
    "url = \"http://api.openweathermap.org/data/2.5/weather?\"\n",
    "units = \"imperial\" \n",
    "\n",
    "#build partial query url\n",
    "query_url = f\"{url}appid={weather_api_key}&units={units}&q=\"\n"
   ]
  },
  {
   "cell_type": "code",
   "execution_count": 4,
   "metadata": {},
   "outputs": [
    {
     "name": "stdout",
     "output_type": "stream",
     "text": [
      "Record= 1: rikitea\n",
      "Record= 2: the valley\n",
      "Record= 3: arraial do cabo\n",
      "Record= 4: ust-kulom\n",
      "Record= 5: santa catarina de tepehuanes\n",
      "Record= 6: albany\n",
      "Record= 7: sechura\n",
      "Record= 8: puerto ayora\n",
      "Record= 9: butaritari\n",
      "Record= 10: tura\n",
      "Record= 11: sanand\n",
      "Record= 12: nanortalik\n",
      "Record= 13: hobart\n",
      "Record= 14: qaanaaq\n",
      "Record= 15: algiers\n",
      "Record= 16: tasiilaq\n",
      "Record= 17: bredasdorp\n",
      "Record= 18: ushuaia\n",
      "Record= 19: port elizabeth\n",
      "Record= 20: kashi\n",
      "Record= 21: busselton\n",
      "Record= 22: thompson\n",
      "Record= 23: marzuq\n",
      "Record= 24: boke\n",
      "Record= 25: balaipungut\n",
      "Record= 26: boyolangu\n",
      "Record= 27: pacific grove\n",
      "City not found.\n",
      "Record= 28: castro\n",
      "Record= 29: binzhou\n",
      "Record= 30: benguela\n",
      "Record= 31: esperance\n",
      "Record= 32: cayenne\n",
      "Record= 33: mount isa\n",
      "Record= 34: tocopilla\n",
      "Record= 35: fortuna\n",
      "City not found.\n",
      "Record= 36: yulara\n",
      "Record= 37: mahebourg\n",
      "Record= 38: barrow\n",
      "Record= 39: aizkraukle\n",
      "Record= 40: ndele\n",
      "Record= 41: presidencia roque saenz pena\n",
      "Record= 42: palauig\n",
      "City not found.\n",
      "Record= 43: livingstonia\n",
      "City not found.\n",
      "Record= 44: cape town\n",
      "Record= 45: laguna\n",
      "Record= 46: rawson\n",
      "Record= 47: ahipara\n",
      "Record= 48: east london\n",
      "Record= 49: saint-philippe\n",
      "Record= 50: pangnirtung\n",
      "Record= 51: monywa\n",
      "Record= 52: acarau\n",
      "Record= 53: kurilsk\n",
      "City not found.\n",
      "Record= 54: jamestown\n",
      "Record= 55: saldanha\n",
      "Record= 56: jati\n",
      "Record= 57: santiago\n",
      "Record= 58: goderich\n",
      "Record= 59: bluff\n",
      "Record= 60: kayes\n",
      "Record= 61: lensk\n",
      "City not found.\n",
      "City not found.\n",
      "Record= 62: puli\n",
      "Record= 63: nizwa\n",
      "Record= 64: gladstone\n",
      "Record= 65: alamos\n",
      "Record= 66: vaini\n",
      "Record= 67: alofi\n",
      "Record= 68: cherskiy\n",
      "Record= 69: tuktoyaktuk\n",
      "City not found.\n",
      "Record= 70: kiunga\n",
      "Record= 71: ternate\n",
      "Record= 72: mataura\n",
      "Record= 73: kavaratti\n",
      "Record= 74: petropavlovsk-kamchatskiy\n",
      "Record= 75: elizabeth city\n",
      "Record= 76: isangel\n",
      "Record= 77: kapaa\n",
      "Record= 78: avera\n",
      "Record= 79: ranong\n",
      "City not found.\n",
      "Record= 80: ancud\n",
      "Record= 81: kodiak\n",
      "Record= 82: victoria\n",
      "Record= 83: bambous virieux\n",
      "Record= 84: souillac\n",
      "Record= 85: atuona\n",
      "Record= 86: sault sainte marie\n",
      "Record= 87: alamogordo\n",
      "City not found.\n",
      "Record= 88: kolda\n",
      "Record= 89: shingu\n",
      "Record= 90: grand gaube\n",
      "Record= 91: hamilton\n",
      "Record= 92: guerrero negro\n",
      "Record= 93: new norfolk\n",
      "Record= 94: dikson\n",
      "Record= 95: tiksi\n",
      "Record= 96: vestmanna\n",
      "Record= 97: labrea\n",
      "Record= 98: cap malheureux\n",
      "Record= 99: cidreira\n",
      "Record= 100: tallahassee\n",
      "Record= 101: camabatela\n",
      "Record= 102: simao\n",
      "Record= 103: egvekinot\n",
      "Record= 104: evensk\n",
      "City not found.\n",
      "Record= 105: aloleng\n",
      "Record= 106: qeshm\n",
      "Record= 107: georgetown\n",
      "Record= 108: punta arenas\n",
      "Record= 109: olbia\n",
      "Record= 110: nikolskoye\n",
      "Record= 111: kaili\n",
      "Record= 112: avarua\n",
      "Record= 113: carnarvon\n",
      "Record= 114: mount gambier\n",
      "Record= 115: sinnamary\n",
      "Record= 116: urumqi\n",
      "City not found.\n",
      "Record= 117: vila velha\n",
      "Record= 118: port blair\n",
      "Record= 119: nampa\n",
      "Record= 120: port lincoln\n",
      "Record= 121: palmares do sul\n",
      "City not found.\n",
      "Record= 122: sao filipe\n",
      "Record= 123: porto novo\n",
      "Record= 124: mayo\n",
      "Record= 125: ponta do sol\n",
      "Record= 126: hermanus\n",
      "Record= 127: longyearbyen\n",
      "Record= 128: qaqortoq\n",
      "Record= 129: baruun-urt\n",
      "Record= 130: tautira\n",
      "City not found.\n",
      "Record= 131: olinda\n",
      "Record= 132: mar del plata\n",
      "Record= 133: san pedro\n",
      "City not found.\n",
      "Record= 134: lakes entrance\n",
      "Record= 135: hay river\n",
      "Record= 136: kaitangata\n",
      "Record= 137: naze\n",
      "Record= 138: south yuba city\n",
      "Record= 139: trojes\n",
      "Record= 140: aswan\n",
      "Record= 141: lasa\n",
      "Record= 142: winona\n",
      "Record= 143: kruisfontein\n",
      "Record= 144: ilebo\n",
      "Record= 145: chokurdakh\n",
      "Record= 146: manokwari\n",
      "Record= 147: khatanga\n",
      "Record= 148: makinsk\n",
      "Record= 149: pisco\n",
      "Record= 150: ulladulla\n",
      "Record= 151: leshukonskoye\n",
      "Record= 152: faanui\n",
      "Record= 153: hilo\n",
      "Record= 154: fillan\n",
      "Record= 155: kozulka\n",
      "Record= 156: maturin\n",
      "Record= 157: sokol\n",
      "Record= 158: hammerfest\n",
      "Record= 159: saltillo\n",
      "Record= 160: tulun\n",
      "Record= 161: klaksvik\n",
      "Record= 162: sorland\n",
      "City not found.\n",
      "Record= 163: beloha\n",
      "Record= 164: torbay\n",
      "Record= 165: provideniya\n",
      "Record= 166: mogadishu\n",
      "Record= 167: hagenow\n",
      "City not found.\n",
      "Record= 168: fairlie\n",
      "Record= 169: ugoofaaru\n",
      "Record= 170: muisne\n",
      "Record= 171: ketchikan\n",
      "Record= 172: newport\n",
      "Record= 173: cabo san lucas\n",
      "Record= 174: ribeira grande\n",
      "Record= 175: santiago del estero\n",
      "Record= 176: morant bay\n",
      "Record= 177: upernavik\n",
      "Record= 178: contamana\n",
      "Record= 179: yellowknife\n",
      "Record= 180: bumba\n",
      "City not found.\n",
      "Record= 181: abha\n",
      "Record= 182: mashivka\n",
      "Record= 183: monrovia\n",
      "Record= 184: mabaruma\n",
      "Record= 185: port alfred\n",
      "Record= 186: awjilah\n",
      "City not found.\n",
      "Record= 187: onega\n",
      "Record= 188: bethel\n",
      "Record= 189: raudeberg\n",
      "Record= 190: znamenskoye\n",
      "Record= 191: taga\n",
      "City not found.\n",
      "Record= 192: comodoro rivadavia\n",
      "Record= 193: cockburn town\n",
      "Record= 194: kudahuvadhoo\n",
      "Record= 195: khandyga\n",
      "City not found.\n",
      "Record= 196: cabedelo\n",
      "Record= 197: dingle\n",
      "Record= 198: muzaffarnagar\n",
      "City not found.\n",
      "Record= 199: codrington\n",
      "Record= 200: prince albert\n",
      "Record= 201: koksovyy\n",
      "City not found.\n",
      "Record= 202: ginir\n",
      "Record= 203: tuatapere\n",
      "Record= 204: santa isabel do rio negro\n",
      "City not found.\n",
      "Record= 205: eureka\n",
      "Record= 206: poum\n",
      "Record= 207: paamiut\n",
      "Record= 208: opotiki\n",
      "Record= 209: hinton\n",
      "Record= 210: san quintin\n",
      "Record= 211: bektemir\n",
      "Record= 212: kamenka\n",
      "Record= 213: kallithea\n",
      "Record= 214: kavieng\n",
      "City not found.\n",
      "Record= 215: flinders\n",
      "Record= 216: chumikan\n",
      "Record= 217: molepolole\n",
      "Record= 218: yerbogachen\n",
      "Record= 219: kahului\n",
      "Record= 220: lumsden\n",
      "Record= 221: derzhavinsk\n",
      "Record= 222: inhambane\n",
      "Record= 223: shimoda\n",
      "Record= 224: san buenaventura\n",
      "Record= 225: chuy\n",
      "Record= 226: mananjary\n",
      "Record= 227: katsuura\n",
      "Record= 228: norman wells\n",
      "Record= 229: dali\n",
      "Record= 230: wajid\n",
      "Record= 231: sakakah\n",
      "Record= 232: panaba\n",
      "Record= 233: fairbanks\n",
      "Record= 234: dudinka\n",
      "City not found.\n",
      "Record= 235: hofn\n",
      "Record= 236: pevek\n",
      "Record= 237: wamba\n",
      "Record= 238: lavrentiya\n",
      "Record= 239: kirakira\n",
      "Record= 240: hede\n",
      "Record= 241: samarai\n",
      "Record= 242: kysyl-syr\n",
      "City not found.\n",
      "Record= 243: rio hato\n",
      "Record= 244: tongliao\n",
      "Record= 245: pakala\n",
      "Record= 246: la tuque\n",
      "Record= 247: yumen\n",
      "Record= 248: sitka\n",
      "Record= 249: shakiso\n",
      "City not found.\n",
      "Record= 250: san carlos\n",
      "Record= 251: conde\n",
      "Record= 252: geraldton\n",
      "Record= 253: camana\n",
      "Record= 254: menongue\n",
      "Record= 255: ginda\n",
      "Record= 256: aklavik\n",
      "Record= 257: sur\n",
      "Record= 258: eirunepe\n",
      "Record= 259: atambua\n",
      "Record= 260: alihe\n",
      "Record= 261: rio gallegos\n",
      "Record= 262: swan hill\n",
      "Record= 263: changtu\n",
      "Record= 264: quang ngai\n",
      "Record= 265: qax\n",
      "City not found.\n",
      "Record= 266: mtimbira\n",
      "Record= 267: ferry pass\n",
      "Record= 268: batagay\n",
      "Record= 269: banda aceh\n",
      "Record= 270: lompoc\n",
      "Record= 271: coihaique\n",
      "Record= 272: college\n",
      "City not found.\n",
      "Record= 273: moyobamba\n",
      "Record= 274: helena\n",
      "Record= 275: lebu\n",
      "Record= 276: iqaluit\n",
      "Record= 277: morondava\n",
      "Record= 278: saint george\n",
      "Record= 279: reserva\n",
      "Record= 280: wanaka\n",
      "Record= 281: balkanabat\n",
      "Record= 282: baryshivka\n",
      "Record= 283: sao gabriel da cachoeira\n",
      "Record= 284: hithadhoo\n",
      "Record= 285: valparaiso\n",
      "Record= 286: hit\n",
      "City not found.\n",
      "Record= 287: aktash\n",
      "Record= 288: antalya\n",
      "Record= 289: ambon\n",
      "Record= 290: mareeba\n",
      "Record= 291: clyde river\n",
      "Record= 292: broome\n",
      "Record= 293: vitre\n",
      "Record= 294: nelson bay\n",
      "Record= 295: biak\n",
      "Record= 296: sabang\n",
      "Record= 297: safford\n",
      "Record= 298: cividale del friuli\n",
      "City not found.\n",
      "Record= 299: los llanos de aridane\n",
      "City not found.\n",
      "Record= 300: liku\n",
      "Record= 301: barabinsk\n",
      "Record= 302: ganzhou\n",
      "Record= 303: dobric\n",
      "Record= 304: vanderhoof\n",
      "Record= 305: hualmay\n",
      "City not found.\n",
      "Record= 306: san cristobal\n",
      "Record= 307: santa fe\n",
      "Record= 308: xining\n",
      "Record= 309: arlit\n",
      "Record= 310: constitucion\n",
      "City not found.\n",
      "Record= 311: ewo\n",
      "Record= 312: bonavista\n",
      "Record= 313: tres lagoas\n",
      "Record= 314: coquimbo\n",
      "Record= 315: macusani\n",
      "Record= 316: meadow lake\n",
      "Record= 317: olafsvik\n",
      "Record= 318: cabrero\n",
      "Record= 319: luderitz\n",
      "Record= 320: hasaki\n",
      "Record= 321: erzin\n",
      "Record= 322: new boston\n",
      "Record= 323: natal\n",
      "Record= 324: mattru\n",
      "Record= 325: bandiagara\n",
      "City not found.\n",
      "Record= 326: beringovskiy\n",
      "Record= 327: deputatskiy\n",
      "Record= 328: marsh harbour\n",
      "Record= 329: lagoa\n",
      "Record= 330: mikkeli\n",
      "City not found.\n",
      "Record= 331: santa catarina\n",
      "Record= 332: misratah\n",
      "Record= 333: touros\n",
      "Record= 334: pangkalanbuun\n",
      "Record= 335: sao miguel do araguaia\n",
      "Record= 336: high prairie\n",
      "Record= 337: vila franca do campo\n",
      "Record= 338: waycross\n",
      "City not found.\n",
      "Record= 339: dunedin\n",
      "Record= 340: rocha\n",
      "Record= 341: jieshi\n",
      "Record= 342: muros\n",
      "Record= 343: canutama\n"
     ]
    },
    {
     "name": "stdout",
     "output_type": "stream",
     "text": [
      "Record= 344: vindeby\n",
      "Record= 345: sibolga\n",
      "Record= 346: luoyang\n",
      "Record= 347: muyezerskiy\n",
      "Record= 348: lima\n",
      "Record= 349: tynda\n",
      "Record= 350: les cayes\n",
      "City not found.\n",
      "Record= 351: wana\n",
      "Record= 352: hami\n",
      "Record= 353: nhulunbuy\n",
      "Record= 354: muscat\n",
      "City not found.\n",
      "Record= 355: maneadero\n",
      "Record= 356: armidale\n",
      "City not found.\n",
      "Record= 357: san isidro\n",
      "Record= 358: lubao\n",
      "Record= 359: shaowu\n",
      "Record= 360: airai\n",
      "Record= 361: vaasa\n",
      "Record= 362: raga\n",
      "Record= 363: mehamn\n",
      "Record= 364: asau\n",
      "Record= 365: vardo\n",
      "Record= 366: meulaboh\n",
      "Record= 367: jadu\n",
      "Record= 368: la puebla del rio\n",
      "Record= 369: plouzane\n",
      "City not found.\n",
      "Record= 370: saskylakh\n",
      "Record= 371: sahuaripa\n",
      "Record= 372: traralgon\n",
      "Record= 373: nushki\n",
      "City not found.\n",
      "Record= 374: westport\n",
      "Record= 375: bambanglipuro\n",
      "Record= 376: turukhansk\n",
      "Record= 377: inta\n",
      "City not found.\n",
      "Record= 378: ofaqim\n",
      "Record= 379: talnakh\n",
      "City not found.\n",
      "Record= 380: balgazyn\n",
      "Record= 381: baykit\n",
      "Record= 382: copacabana\n",
      "Record= 383: amahai\n",
      "Record= 384: lewistown\n",
      "Record= 385: port hedland\n",
      "Record= 386: cascais\n",
      "Record= 387: honiara\n",
      "Record= 388: ouesso\n",
      "Record= 389: bengkulu\n",
      "Record= 390: nemuro\n",
      "Record= 391: boguchany\n",
      "City not found.\n",
      "Record= 392: pochutla\n",
      "Record= 393: maragogi\n",
      "Record= 394: ati\n",
      "Record= 395: puerto ayacucho\n",
      "Record= 396: boueni\n",
      "Record= 397: anadyr\n",
      "Record= 398: mgandu\n",
      "Record= 399: fort nelson\n",
      "Record= 400: urengoy\n",
      "Record= 401: paracuru\n",
      "Record= 402: viedma\n",
      "Record= 403: novikovo\n",
      "Record= 404: palomares\n",
      "Record= 405: atotonilco el alto\n",
      "Record= 406: la ronge\n",
      "Record= 407: west plains\n",
      "Record= 408: singapore\n",
      "Record= 409: oga\n",
      "Record= 410: husavik\n",
      "Record= 411: beyneu\n",
      "Record= 412: dwarka\n",
      "Record= 413: zhigansk\n",
      "Record= 414: bilibino\n",
      "Record= 415: wakkanai\n",
      "Record= 416: ilulissat\n",
      "Record= 417: nuuk\n",
      "Record= 418: uruzgan\n",
      "Record= 419: jamalpur\n",
      "Record= 420: soyo\n",
      "Record= 421: svetlyy\n",
      "Record= 422: sao joao da barra\n",
      "Record= 423: severo-kurilsk\n",
      "City not found.\n",
      "Record= 424: nautanwa\n",
      "City not found.\n",
      "Record= 425: korba\n",
      "Record= 426: omboue\n",
      "Record= 427: auki\n",
      "Record= 428: russell\n",
      "Record= 429: baturaja\n",
      "Record= 430: el alto\n",
      "Record= 431: almeirim\n",
      "Record= 432: bam\n",
      "Record= 433: durango\n",
      "Record= 434: mitu\n",
      "Record= 435: krasnyye tkachi\n",
      "Record= 436: jibuti\n",
      "Record= 437: hervey bay\n",
      "Record= 438: san vicente\n",
      "Record= 439: washington\n",
      "Record= 440: saint anthony\n",
      "Record= 441: budhlada\n",
      "Record= 442: jishou\n",
      "Record= 443: linjiang\n",
      "Record= 444: huangchuan\n",
      "Record= 445: murgab\n",
      "Record= 446: miri\n",
      "Record= 447: coos bay\n",
      "Record= 448: puerto madryn\n",
      "Record= 449: guanica\n",
      "Record= 450: saint-denis\n",
      "Record= 451: maniitsoq\n",
      "Record= 452: balad\n",
      "Record= 453: champerico\n",
      "Record= 454: manzini\n",
      "Record= 455: cururupu\n",
      "Record= 456: necochea\n",
      "City not found.\n",
      "Record= 457: mamoudzou\n",
      "Record= 458: sabha\n",
      "Record= 459: riachao das neves\n",
      "Record= 460: danilov\n",
      "Record= 461: zonguldak\n",
      "Record= 462: nouadhibou\n",
      "Record= 463: kashira\n",
      "City not found.\n",
      "Record= 464: los banos\n",
      "Record= 465: williamsport\n",
      "Record= 466: namatanai\n",
      "Record= 467: maxixe\n",
      "Record= 468: benalla\n",
      "Record= 469: lake city\n",
      "Record= 470: antalaha\n",
      "Record= 471: lorengau\n",
      "Record= 472: kharp\n",
      "Record= 473: mayumba\n",
      "Record= 474: podosinovets\n",
      "Record= 475: samandag\n",
      "Record= 476: warrington\n",
      "Record= 477: tamluk\n",
      "Record= 478: iseyin\n",
      "Record= 479: assiniboia\n",
      "Record= 480: dimapur\n",
      "Record= 481: maebaru\n",
      "Record= 482: jodhpur\n",
      "Record= 483: kayiry\n",
      "Record= 484: bandarbeyla\n",
      "Record= 485: uyutne\n",
      "Record= 486: barroquinha\n",
      "Record= 487: glendive\n",
      "Record= 488: saint-pierre\n",
      "City not found.\n",
      "Record= 489: kloulklubed\n",
      "Record= 490: moyale\n",
      "Record= 491: grindavik\n",
      "City not found.\n",
      "Record= 492: birjand\n",
      "Record= 493: daru\n",
      "Record= 494: yei\n",
      "Record= 495: san patricio\n",
      "Record= 496: bajil\n",
      "Record= 497: nalut\n",
      "Record= 498: abu samrah\n",
      "Record= 499: honningsvag\n",
      "Record= 500: skibbereen\n",
      "Record= 501: mantua\n",
      "Record= 502: kunashak\n",
      "Record= 503: nizhnevartovsk\n",
      "Record= 504: sisimiut\n",
      "Record= 505: keffi\n",
      "Record= 506: mweka\n",
      "Record= 507: puerto del rosario\n",
      "Record= 508: sioux lookout\n",
      "Record= 509: orlik\n",
      "Record= 510: havelock\n",
      "Record= 511: eisenach\n",
      "Record= 512: sambava\n",
      "Record= 513: shubarkuduk\n",
      "Record= 514: axim\n",
      "Record= 515: leua\n",
      "Record= 516: manta\n",
      "Record= 517: ostrovnoy\n",
      "City not found.\n",
      "Record= 518: san lawrenz\n",
      "Record= 519: salina cruz\n",
      "Record= 520: killarney\n",
      "Record= 521: tornio\n",
      "Record= 522: chichawatni\n",
      "Record= 523: qandala\n",
      "Record= 524: zhangye\n",
      "Record= 525: hambantota\n",
      "Record= 526: laurel\n",
      "Record= 527: saint-joseph\n",
      "Record= 528: teguise\n",
      "Record= 529: pokhara\n",
      "Record= 530: umm lajj\n",
      "Record= 531: srednekolymsk\n",
      "Record= 532: puerto el triunfo\n",
      "Record= 533: puri\n",
      "Record= 534: port augusta\n",
      "Record= 535: pemba\n",
      "Record= 536: karratha\n",
      "Record= 537: amapa\n",
      "Record= 538: matara\n",
      "Record= 539: cervo\n",
      "Record= 540: tomatlan\n",
      "Record= 541: guatire\n",
      "Record= 542: am timan\n",
      "Record= 543: sao jose da coroa grande\n",
      "Record= 544: coxim\n",
      "Record= 545: papara\n",
      "Record= 546: inongo\n",
      "Record= 547: walvis bay\n",
      "Record= 548: akyab\n",
      "Record= 549: vung tau\n",
      "Record= 550: woodward\n",
      "Record= 551: bria\n",
      "Record= 552: medvedka\n",
      "Record= 553: gdansk\n",
      "Record= 554: balingasay\n",
      "Record= 555: sa kaeo\n"
     ]
    }
   ],
   "source": [
    "#set up empty lists to hold response info\n",
    "city_name = []\n",
    "lat = []\n",
    "temp = []\n",
    "lon = []\n",
    "humidity = []\n",
    "cloudiness = []\n",
    "wind_speed = []\n",
    "country = []\n",
    "index_counter = 0\n",
    "\n",
    "#loop through cities and request data \n",
    "for index, city in enumerate(cities, start = 1):\n",
    "    try:\n",
    "        response = requests.get(query_url + city).json()\n",
    "        city_name.append(response[\"name\"])\n",
    "        lat.append(response[\"coord\"][\"lat\"])\n",
    "        temp.append(response[\"main\"][\"temp_max\"])\n",
    "        lon.append(response[\"coord\"][\"lon\"])\n",
    "        humidity.append(response['main']['humidity'])\n",
    "        cloudiness.append(response[\"clouds\"][\"all\"])\n",
    "        wind_speed.append(response['wind']['speed'])\n",
    "        country.append(response['sys']['country'])\n",
    "        \n",
    "        #keep track of records \n",
    "        index_counter = index_counter + 1\n",
    "        \n",
    "        print(f\"Record= {index_counter}: {city}\")\n",
    "        \n",
    "    except(KeyError,IndexError):\n",
    "        print('City not found.')\n",
    "        \n",
    "\n",
    "        \n"
   ]
  },
  {
   "cell_type": "markdown",
   "metadata": {},
   "source": [
    "### Convert Raw Data to DataFrame\n",
    "* Export the city data into a .csv.\n",
    "* Display the DataFrame"
   ]
  },
  {
   "cell_type": "code",
   "execution_count": 5,
   "metadata": {},
   "outputs": [
    {
     "data": {
      "text/plain": [
       "City            object\n",
       "Country         object\n",
       "Latitude       float64\n",
       "Temperature    float64\n",
       "Longitude      float64\n",
       "Humidity       float64\n",
       "Cloudiness     float64\n",
       "Wind Speed     float64\n",
       "dtype: object"
      ]
     },
     "execution_count": 5,
     "metadata": {},
     "output_type": "execute_result"
    }
   ],
   "source": [
    "#create pandas dataframe\n",
    "weather_df=pd.DataFrame({\"City\": city_name,\n",
    "                         \"Country\": country,\n",
    "                       \"Latitude\": lat,\n",
    "                       \"Temperature\": temp,\n",
    "                       \"Longitude\": lon,\n",
    "                       \"Humidity\": humidity,\n",
    "                       \"Cloudiness\": cloudiness,\n",
    "                       \"Wind Speed\": wind_speed})\n",
    "\n",
    "#convert types to float\n",
    "weather_df[\"Humidity\"] = weather_df[\"Humidity\"].astype(float)\n",
    "weather_df[\"Cloudiness\"] = weather_df[\"Cloudiness\"].astype(float)\n",
    "\n",
    "weather_df\n",
    "weather_df.dtypes\n",
    "\n"
   ]
  },
  {
   "cell_type": "code",
   "execution_count": 6,
   "metadata": {},
   "outputs": [],
   "source": [
    "#save city data into csv file \n",
    "weather_df.to_csv(output_data_file, index=False)"
   ]
  },
  {
   "cell_type": "markdown",
   "metadata": {},
   "source": [
    "## Inspect the data and remove the cities where the humidity > 100%.\n",
    "----\n",
    "Skip this step if there are no cities that have humidity > 100%. "
   ]
  },
  {
   "cell_type": "code",
   "execution_count": null,
   "metadata": {},
   "outputs": [],
   "source": [
    "#  Get the indices of cities that have humidity over 100%.\n"
   ]
  },
  {
   "cell_type": "code",
   "execution_count": null,
   "metadata": {},
   "outputs": [],
   "source": [
    "# Make a new DataFrame equal to the city data to drop all humidity outliers by index.\n",
    "# Passing \"inplace=False\" will make a copy of the city_data DataFrame, which we call \"clean_city_data\".\n"
   ]
  },
  {
   "cell_type": "markdown",
   "metadata": {},
   "source": [
    "## Plotting the Data\n",
    "* Use proper labeling of the plots using plot titles (including date of analysis) and axes labels.\n",
    "* Save the plotted figures as .pngs."
   ]
  },
  {
   "cell_type": "markdown",
   "metadata": {},
   "source": [
    "## Latitude vs. Temperature Plot"
   ]
  },
  {
   "cell_type": "code",
   "execution_count": 7,
   "metadata": {
    "scrolled": true
   },
   "outputs": [
    {
     "data": {
      "image/png": "[encoded data removed]",
      "text/plain": [
       "<Figure size 432x288 with 1 Axes>"
      ]
     },
     "metadata": {
      "needs_background": "light"
     },
     "output_type": "display_data"
    }
   ],
   "source": [
    "#create latitude vs. Temperature scatter plot\n",
    "plt.scatter(weather_df[\"Latitude\"],weather_df[\"Temperature\"])\n",
    "\n",
    "#create title\n",
    "plt.title(\"City Latitude vs. Temperature\")\n",
    "\n",
    "#create x and y axis labels\n",
    "plt.xlabel(\"Latitude\")\n",
    "plt.ylabel(\"Temperature (F)\")\n",
    "\n",
    "#save plot\n",
    "plt.savefig(\"../output_data/LatvsTemp.png\")\n",
    "#plot\n",
    "plt.show()\n"
   ]
  },
  {
   "cell_type": "markdown",
   "metadata": {},
   "source": [
    "The lower the latitude the higher the temperature, the higher the latitude the lower the temperature."
   ]
  },
  {
   "cell_type": "markdown",
   "metadata": {},
   "source": [
    "## Latitude vs. Humidity Plot"
   ]
  },
  {
   "cell_type": "code",
   "execution_count": 8,
   "metadata": {},
   "outputs": [
    {
     "data": {
      "image/png": "[encoded data removed]",
      "text/plain": [
       "<Figure size 432x288 with 1 Axes>"
      ]
     },
     "metadata": {
      "needs_background": "light"
     },
     "output_type": "display_data"
    }
   ],
   "source": [
    "#create latitude vs. Temperature scatter plot\n",
    "plt.scatter(weather_df[\"Latitude\"],weather_df[\"Humidity\"])\n",
    "\n",
    "#create title\n",
    "plt.title(\"City Latitude vs. Humidity\")\n",
    "\n",
    "#create x and y axis labels\n",
    "plt.xlabel(\"Latitude\")\n",
    "plt.ylabel(\"Humidity\")\n",
    "\n",
    "#save plot\n",
    "plt.savefig(\"../output_data/LatvsHumidity.png\")\n",
    "#plot\n",
    "plt.show()"
   ]
  },
  {
   "cell_type": "markdown",
   "metadata": {},
   "source": [
    "Humidity is higher the farther from zero latitude. "
   ]
  },
  {
   "cell_type": "markdown",
   "metadata": {},
   "source": [
    "## Latitude vs. Cloudiness Plot"
   ]
  },
  {
   "cell_type": "code",
   "execution_count": 10,
   "metadata": {},
   "outputs": [
    {
     "data": {
      "image/png": "[encoded data removed]",
      "text/plain": [
       "<Figure size 432x288 with 1 Axes>"
      ]
     },
     "metadata": {
      "needs_background": "light"
     },
     "output_type": "display_data"
    }
   ],
   "source": [
    "#create latitude vs. Temperature scatter plot\n",
    "plt.scatter(weather_df[\"Latitude\"],weather_df[\"Cloudiness\"])\n",
    "\n",
    "#create title\n",
    "plt.title(\"City Latitude vs. Cloudiness\")\n",
    "\n",
    "#create x and y axis labels\n",
    "plt.xlabel(\"Latitude\")\n",
    "plt.ylabel(\"Cloudiness\")\n",
    "\n",
    "#save plot\n",
    "plt.savefig(\"../output_data/LatvsCloudiness.png\")\n",
    "\n",
    "#plot\n",
    "plt.show()"
   ]
  },
  {
   "cell_type": "markdown",
   "metadata": {},
   "source": [
    "Cloudiness varies across latitudes."
   ]
  },
  {
   "cell_type": "markdown",
   "metadata": {},
   "source": [
    "## Latitude vs. Wind Speed Plot"
   ]
  },
  {
   "cell_type": "code",
   "execution_count": 11,
   "metadata": {},
   "outputs": [
    {
     "data": {
      "image/png": "[encoded data removed]",
      "text/plain": [
       "<Figure size 432x288 with 1 Axes>"
      ]
     },
     "metadata": {
      "needs_background": "light"
     },
     "output_type": "display_data"
    }
   ],
   "source": [
    "plt.scatter(weather_df[\"Latitude\"],weather_df[\"Wind Speed\"])\n",
    "\n",
    "#create title\n",
    "plt.title(\"City Latitude vs. Wind Speed\")\n",
    "\n",
    "#create x and y axis labels\n",
    "plt.xlabel(\"Latitude\")\n",
    "plt.ylabel(\"Wind Speed\")\n",
    "\n",
    "#save plot\n",
    "plt.savefig(\"../output_data/LatvsWindSpeed.png\")\n",
    "\n",
    "#plot\n",
    "plt.show()"
   ]
  },
  {
   "cell_type": "markdown",
   "metadata": {},
   "source": [
    "Windspeed varies across latitudes."
   ]
  },
  {
   "cell_type": "markdown",
   "metadata": {},
   "source": [
    "## Linear Regression"
   ]
  },
  {
   "cell_type": "code",
   "execution_count": 14,
   "metadata": {},
   "outputs": [],
   "source": [
    "#create southern and northern hemisphere dataframes\n",
    "northern_hem = weather_df.loc[weather_df[\"Latitude\"] >=0]\n",
    "southern_hem = weather_df.loc[weather_df[\"Latitude\"] < 0]\n"
   ]
  },
  {
   "cell_type": "markdown",
   "metadata": {},
   "source": [
    "####  Northern Hemisphere - Max Temp vs. Latitude Linear Regression"
   ]
  },
  {
   "cell_type": "code",
   "execution_count": 31,
   "metadata": {},
   "outputs": [
    {
     "name": "stdout",
     "output_type": "stream",
     "text": [
      "The correlation between both factors is -0.88\n",
      "y = -1.4 x + 92.38\n"
     ]
    },
    {
     "data": {
      "image/png": "[encoded data removed]",
      "text/plain": [
       "<Figure size 432x288 with 1 Axes>"
      ]
     },
     "metadata": {
      "needs_background": "light"
     },
     "output_type": "display_data"
    }
   ],
   "source": [
    "x_values = northern_hem['Latitude']\n",
    "y_values = northern_hem['Temperature']\n",
    "\n",
    "#calculate and print correlation coefficient\n",
    "correlation = st.pearsonr(x_values,y_values)\n",
    "print(f\"The correlation between both factors is {round(correlation[0],2)}\")\n",
    "\n",
    "#calculation linear regression\n",
    "(slope, intercept, rvalue, pvalue, stderr)=linregress(x_values,y_values)\n",
    "\n",
    "regress_values = x_values * slope + intercept\n",
    "\n",
    "line_eq = f\"y = {round(slope,2)} x + {round(intercept,2)}\"\n",
    "\n",
    "#print line equation\n",
    "print(line_eq)\n",
    "\n",
    "#plot\n",
    "plt.scatter(x_values,y_values)\n",
    "plt.plot(x_values,regress_values,\"g-\")\n",
    "\n",
    "#add labels\n",
    "plt.xlabel(\"Latitude\")\n",
    "plt.ylabel(\"Temperature\")\n",
    "\n",
    "#save plot\n",
    "plt.savefig((\"../output_data/NorthernHemTempvsLat.png\"))\n",
    "\n",
    "#show plot\n",
    "plt.show()\n",
    "\n"
   ]
  },
  {
   "cell_type": "markdown",
   "metadata": {},
   "source": [
    "Temperature and latitude are negatively correlated in the northern hemisphere."
   ]
  },
  {
   "cell_type": "markdown",
   "metadata": {},
   "source": [
    "####  Southern Hemisphere - Max Temp vs. Latitude Linear Regression"
   ]
  },
  {
   "cell_type": "code",
   "execution_count": 30,
   "metadata": {},
   "outputs": [
    {
     "name": "stdout",
     "output_type": "stream",
     "text": [
      "The correlation between both factors is 0.5\n",
      "y = 0.33 x + 81.12\n"
     ]
    },
    {
     "data": {
      "image/png": "[encoded data removed]",
      "text/plain": [
       "<Figure size 432x288 with 1 Axes>"
      ]
     },
     "metadata": {
      "needs_background": "light"
     },
     "output_type": "display_data"
    }
   ],
   "source": [
    "x_values = southern_hem['Latitude']\n",
    "y_values = southern_hem['Temperature']\n",
    "\n",
    "\n",
    "#calculate and print correlation coefficient\n",
    "correlation = st.pearsonr(x_values,y_values)\n",
    "print(f\"The correlation between both factors is {round(correlation[0],2)}\")\n",
    "\n",
    "#calculation linear regression\n",
    "(slope, intercept, rvalue, pvalue, stderr)=linregress(x_values,y_values)\n",
    "\n",
    "regress_values = x_values * slope + intercept\n",
    "\n",
    "line_eq = f\"y = {round(slope,2)} x + {round(intercept,2)}\"\n",
    "\n",
    "#print line equation\n",
    "print(line_eq)\n",
    "\n",
    "plt.scatter(x_values,y_values)\n",
    "plt.plot(x_values,regress_values,\"g-\")\n",
    "\n",
    "#add labels\n",
    "plt.xlabel(\"Latitude\")\n",
    "plt.ylabel(\"Temperature\")\n",
    "\n",
    "\n",
    "#save plot\n",
    "plt.savefig((\"../output_data/SouthernHemTempvsLat.png\"))\n",
    "\n",
    "#show plot\n",
    "plt.show()"
   ]
  },
  {
   "cell_type": "markdown",
   "metadata": {},
   "source": [
    "Latitude and temperature are slightly positively correlated in the southern hemisphere. "
   ]
  },
  {
   "cell_type": "markdown",
   "metadata": {},
   "source": [
    "####  Northern Hemisphere - Humidity (%) vs. Latitude Linear Regression"
   ]
  },
  {
   "cell_type": "code",
   "execution_count": 32,
   "metadata": {},
   "outputs": [
    {
     "name": "stdout",
     "output_type": "stream",
     "text": [
      "The correlation between both factors is 0.31\n",
      "y = 0.31 x + 60.9\n"
     ]
    },
    {
     "data": {
      "image/png": "[encoded data removed]",
      "text/plain": [
       "<Figure size 432x288 with 1 Axes>"
      ]
     },
     "metadata": {
      "needs_background": "light"
     },
     "output_type": "display_data"
    }
   ],
   "source": [
    "x_values = northern_hem['Latitude']\n",
    "y_values = northern_hem['Humidity']\n",
    "\n",
    "\n",
    "#calculate and print correlation coefficient\n",
    "correlation = st.pearsonr(x_values,y_values)\n",
    "print(f\"The correlation between both factors is {round(correlation[0],2)}\")\n",
    "\n",
    "#calculation linear regression\n",
    "(slope, intercept, rvalue, pvalue, stderr)=linregress(x_values,y_values)\n",
    "\n",
    "regress_values = x_values * slope + intercept\n",
    "\n",
    "line_eq = f\"y = {round(slope,2)} x + {round(intercept,2)}\"\n",
    "\n",
    "#print line equation\n",
    "print(line_eq)\n",
    "\n",
    "plt.scatter(x_values,y_values)\n",
    "plt.plot(x_values,regress_values,\"g-\")\n",
    "\n",
    "#add labels\n",
    "plt.xlabel(\"Latitude\")\n",
    "plt.ylabel(\"Humidity\")\n",
    "\n",
    "\n",
    "#save plot\n",
    "plt.savefig((\"../output_data/NorthernHemHumidityvsLat.png\"))\n",
    "\n",
    "#show plot\n",
    "plt.show()"
   ]
  },
  {
   "cell_type": "markdown",
   "metadata": {},
   "source": [
    "Humidity and latitude are slightly positively correlated in the northern hemisphere."
   ]
  },
  {
   "cell_type": "markdown",
   "metadata": {},
   "source": [
    "####  Southern Hemisphere - Humidity (%) vs. Latitude Linear Regression"
   ]
  },
  {
   "cell_type": "code",
   "execution_count": 33,
   "metadata": {},
   "outputs": [
    {
     "name": "stdout",
     "output_type": "stream",
     "text": [
      "The correlation between both factors is 0.22\n",
      "y = 0.26 x + 81.82\n"
     ]
    },
    {
     "data": {
      "image/png": "[encoded data removed]",
      "text/plain": [
       "<Figure size 432x288 with 1 Axes>"
      ]
     },
     "metadata": {
      "needs_background": "light"
     },
     "output_type": "display_data"
    }
   ],
   "source": [
    "x_values = southern_hem['Latitude']\n",
    "y_values = southern_hem['Humidity']\n",
    "\n",
    "\n",
    "#calculate and print correlation coefficient\n",
    "correlation = st.pearsonr(x_values,y_values)\n",
    "print(f\"The correlation between both factors is {round(correlation[0],2)}\")\n",
    "\n",
    "#calculation linear regression\n",
    "(slope, intercept, rvalue, pvalue, stderr)=linregress(x_values,y_values)\n",
    "\n",
    "regress_values = x_values * slope + intercept\n",
    "\n",
    "line_eq = f\"y = {round(slope,2)} x + {round(intercept,2)}\"\n",
    "\n",
    "#print line equation\n",
    "print(line_eq)\n",
    "\n",
    "plt.scatter(x_values,y_values)\n",
    "plt.plot(x_values,regress_values,\"g-\")\n",
    "\n",
    "#add labels\n",
    "plt.xlabel(\"Latitude\")\n",
    "plt.ylabel(\"Humidity\")\n",
    "\n",
    "\n",
    "#save plot\n",
    "plt.savefig((\"../output_data/SouthernHemHumidityvsLat.png\"))\n",
    "\n",
    "#show plot\n",
    "plt.show()"
   ]
  },
  {
   "cell_type": "markdown",
   "metadata": {},
   "source": [
    "Humidity and latitude have low positive correlation in the southern hemisphere."
   ]
  },
  {
   "cell_type": "markdown",
   "metadata": {},
   "source": [
    "####  Northern Hemisphere - Cloudiness (%) vs. Latitude Linear Regression"
   ]
  },
  {
   "cell_type": "code",
   "execution_count": 26,
   "metadata": {},
   "outputs": [
    {
     "name": "stdout",
     "output_type": "stream",
     "text": [
      "The correlation between both factors is 0.05\n",
      "y = 0.09 x + 50.7\n"
     ]
    },
    {
     "data": {
      "image/png": "[encoded data removed]",
      "text/plain": [
       "<Figure size 432x288 with 1 Axes>"
      ]
     },
     "metadata": {
      "needs_background": "light"
     },
     "output_type": "display_data"
    }
   ],
   "source": [
    "x_values = northern_hem['Latitude']\n",
    "y_values = northern_hem['Cloudiness']\n",
    "\n",
    "\n",
    "#calculate and print correlation coefficient\n",
    "correlation = st.pearsonr(x_values,y_values)\n",
    "print(f\"The correlation between both factors is {round(correlation[0],2)}\")\n",
    "\n",
    "#calculation linear regression\n",
    "(slope, intercept, rvalue, pvalue, stderr)=linregress(x_values,y_values)\n",
    "\n",
    "regress_values = x_values * slope + intercept\n",
    "\n",
    "line_eq = f\"y = {round(slope,2)} x + {round(intercept,2)}\"\n",
    "\n",
    "#print line equation\n",
    "print(line_eq)\n",
    "\n",
    "plt.scatter(x_values,y_values)\n",
    "plt.plot(x_values,regress_values,\"g-\")\n",
    "\n",
    "#add labels\n",
    "plt.xlabel(\"Latitude\")\n",
    "plt.ylabel(\"Cloudiness\")\n",
    "\n",
    "\n",
    "#save plot\n",
    "plt.savefig((\"../output_data/NorthernHemCloudinessyvsLat.png\"))\n",
    "\n",
    "#show plot\n",
    "plt.show()"
   ]
  },
  {
   "cell_type": "markdown",
   "metadata": {},
   "source": [
    "Humidity and latitude have low positive correlation in the northern hemisphere."
   ]
  },
  {
   "cell_type": "markdown",
   "metadata": {},
   "source": [
    "####  Southern Hemisphere - Cloudiness (%) vs. Latitude Linear Regression"
   ]
  },
  {
   "cell_type": "code",
   "execution_count": 34,
   "metadata": {},
   "outputs": [
    {
     "name": "stdout",
     "output_type": "stream",
     "text": [
      "The correlation between both factors is 0.4\n",
      "y = 1.14 x + 79.25\n"
     ]
    },
    {
     "data": {
      "image/png": "[encoded data removed]",
      "text/plain": [
       "<Figure size 432x288 with 1 Axes>"
      ]
     },
     "metadata": {
      "needs_background": "light"
     },
     "output_type": "display_data"
    }
   ],
   "source": [
    "x_values = southern_hem['Latitude']\n",
    "y_values = southern_hem['Cloudiness']\n",
    "\n",
    "\n",
    "#calculate and print correlation coefficient\n",
    "correlation = st.pearsonr(x_values,y_values)\n",
    "print(f\"The correlation between both factors is {round(correlation[0],2)}\")\n",
    "\n",
    "#calculation linear regression\n",
    "(slope, intercept, rvalue, pvalue, stderr)=linregress(x_values,y_values)\n",
    "\n",
    "regress_values = x_values * slope + intercept\n",
    "\n",
    "line_eq = f\"y = {round(slope,2)} x + {round(intercept,2)}\"\n",
    "\n",
    "#print line equation\n",
    "print(line_eq)\n",
    "\n",
    "plt.scatter(x_values,y_values)\n",
    "plt.plot(x_values,regress_values,\"g-\")\n",
    "\n",
    "#add labels\n",
    "plt.xlabel(\"Latitude\")\n",
    "plt.ylabel(\"Cloudiness\")\n",
    "\n",
    "\n",
    "#save plot\n",
    "plt.savefig((\"../output_data/SouthernHemCloudinessvsLat.png\"))\n",
    "\n",
    "#show plot\n",
    "plt.show()"
   ]
  },
  {
   "cell_type": "markdown",
   "metadata": {},
   "source": [
    "Cloudiness and latitude are positively corelated in southern hemisphere."
   ]
  },
  {
   "cell_type": "markdown",
   "metadata": {},
   "source": [
    "####  Northern Hemisphere - Wind Speed (mph) vs. Latitude Linear Regression"
   ]
  },
  {
   "cell_type": "code",
   "execution_count": 28,
   "metadata": {},
   "outputs": [
    {
     "name": "stdout",
     "output_type": "stream",
     "text": [
      "The correlation between both factors is 0.13\n",
      "y = 0.03 x + 5.95\n"
     ]
    },
    {
     "data": {
      "image/png": "[encoded data removed]",
      "text/plain": [
       "<Figure size 432x288 with 1 Axes>"
      ]
     },
     "metadata": {
      "needs_background": "light"
     },
     "output_type": "display_data"
    }
   ],
   "source": [
    "x_values = northern_hem['Latitude']\n",
    "y_values = northern_hem['Wind Speed']\n",
    "\n",
    "\n",
    "#calculate and print correlation coefficient\n",
    "correlation = st.pearsonr(x_values,y_values)\n",
    "print(f\"The correlation between both factors is {round(correlation[0],2)}\")\n",
    "\n",
    "#calculation linear regression\n",
    "(slope, intercept, rvalue, pvalue, stderr)=linregress(x_values,y_values)\n",
    "\n",
    "regress_values = x_values * slope + intercept\n",
    "\n",
    "line_eq = f\"y = {round(slope,2)} x + {round(intercept,2)}\"\n",
    "\n",
    "#print line equation\n",
    "print(line_eq)\n",
    "\n",
    "plt.scatter(x_values,y_values)\n",
    "plt.plot(x_values,regress_values,\"g-\")\n",
    "\n",
    "#add labels\n",
    "plt.xlabel(\"Latitude\")\n",
    "plt.ylabel(\"Wind Speed\")\n",
    "\n",
    "\n",
    "#save plot\n",
    "plt.savefig((\"../output_data/NorthernHemWindSpeedvsLat.png\"))\n",
    "\n",
    "#show plot\n",
    "plt.show()"
   ]
  },
  {
   "cell_type": "markdown",
   "metadata": {},
   "source": [
    "Latitude and wind speed have a low positive correlation in the northern hemisphere."
   ]
  },
  {
   "cell_type": "markdown",
   "metadata": {},
   "source": [
    "####  Southern Hemisphere - Wind Speed (mph) vs. Latitude Linear Regression"
   ]
  },
  {
   "cell_type": "code",
   "execution_count": 29,
   "metadata": {},
   "outputs": [
    {
     "name": "stdout",
     "output_type": "stream",
     "text": [
      "The correlation between both factors is -0.16\n",
      "y = -0.06 x + 5.59\n"
     ]
    },
    {
     "data": {
      "image/png": "[encoded data removed]",
      "text/plain": [
       "<Figure size 432x288 with 1 Axes>"
      ]
     },
     "metadata": {
      "needs_background": "light"
     },
     "output_type": "display_data"
    }
   ],
   "source": [
    "x_values = southern_hem['Latitude']\n",
    "y_values = southern_hem['Wind Speed']\n",
    "\n",
    "\n",
    "#calculate and print correlation coefficient\n",
    "correlation = st.pearsonr(x_values,y_values)\n",
    "print(f\"The correlation between both factors is {round(correlation[0],2)}\")\n",
    "\n",
    "#calculation linear regression\n",
    "(slope, intercept, rvalue, pvalue, stderr)=linregress(x_values,y_values)\n",
    "\n",
    "regress_values = x_values * slope + intercept\n",
    "\n",
    "line_eq = f\"y = {round(slope,2)} x + {round(intercept,2)}\"\n",
    "\n",
    "#print line equation\n",
    "print(line_eq)\n",
    "\n",
    "plt.scatter(x_values,y_values)\n",
    "plt.plot(x_values,regress_values,\"g-\")\n",
    "\n",
    "#add labels\n",
    "plt.xlabel(\"Latitude\")\n",
    "plt.ylabel(\"Wind Speed\")\n",
    "\n",
    "\n",
    "#save plot\n",
    "plt.savefig((\"../output_data/SouthernHemWindSpeedvsLat.png\"))\n",
    "\n",
    "#show plot\n",
    "plt.show()"
   ]
  },
  {
   "cell_type": "markdown",
   "metadata": {},
   "source": [
    "Latitude and windspeed are have a low negative correlation in the southern hemisphere. "
   ]
  }
 ],
 "metadata": {
  "anaconda-cloud": {},
  "kernel_info": {
   "name": "python3"
  },
  "kernelspec": {
   "display_name": "Python 3",
   "language": "python",
   "name": "python3"
  },
  "language_info": {
   "codemirror_mode": {
    "name": "ipython",
    "version": 3
   },
   "file_extension": ".py",
   "mimetype": "text/x-python",
   "name": "python",
   "nbconvert_exporter": "python",
   "pygments_lexer": "ipython3",
   "version": "3.8.5"
  },
  "latex_envs": {
   "LaTeX_envs_menu_present": true,
   "autoclose": false,
   "autocomplete": true,
   "bibliofile": "biblio.bib",
   "cite_by": "apalike",
   "current_citInitial": 1,
   "eqLabelWithNumbers": true,
   "eqNumInitial": 1,
   "hotkeys": {
    "equation": "Ctrl-E",
    "itemize": "Ctrl-I"
   },
   "labels_anchors": false,
   "latex_user_defs": false,
   "report_style_numbering": false,
   "user_envs_cfg": false
  },
  "nteract": {
   "version": "0.12.3"
  }
 },
 "nbformat": 4,
 "nbformat_minor": 2
}
