{
 "cells": [
  {
   "cell_type": "markdown",
   "metadata": {},
   "source": [
    "# WeatherPy\n",
    "----\n",
    "\n",
    "#### Note\n",
    "* Instructions have been included for each segment. You do not have to follow them exactly, but they are included to help you think through the steps."
   ]
  },
  {
   "cell_type": "code",
   "execution_count": 1,
   "metadata": {
    "scrolled": true
   },
   "outputs": [],
   "source": [
    "# Dependencies and Setup\n",
    "import matplotlib.pyplot as plt\n",
    "import pandas as pd\n",
    "import numpy as np\n",
    "import requests\n",
    "import time\n",
    "import json\n",
    "import scipy.stats as st\n",
    "from scipy.stats import linregress\n",
    "\n",
    "# Import API key\n",
    "from api_keys import weather_api_key\n",
    "\n",
    "# Incorporated citipy to determine city based on latitude and longitude\n",
    "from citipy import citipy\n",
    "\n",
    "# Output File (CSV)\n",
    "output_data_file = \"../output_data/cities.csv\"\n",
    "\n",
    "# Range of latitudes and longitudes\n",
    "lat_range = (-90, 90)\n",
    "lng_range = (-180, 180)"
   ]
  },
  {
   "cell_type": "markdown",
   "metadata": {},
   "source": [
    "## Generate Cities List"
   ]
  },
  {
   "cell_type": "code",
   "execution_count": 2,
   "metadata": {},
   "outputs": [
    {
     "data": {
      "text/plain": [
       "620"
      ]
     },
     "execution_count": 2,
     "metadata": {},
     "output_type": "execute_result"
    }
   ],
   "source": [
    "# List for holding lat_lngs and cities\n",
    "lat_lngs = []\n",
    "cities = []\n",
    "\n",
    "# Create a set of random lat and lng combinations\n",
    "lats = np.random.uniform(lat_range[0], lat_range[1], size=1500)\n",
    "lngs = np.random.uniform(lng_range[0], lng_range[1], size=1500)\n",
    "lat_lngs = zip(lats, lngs)\n",
    "\n",
    "# Identify nearest city for each lat, lng combination\n",
    "for lat_lng in lat_lngs:\n",
    "    city = citipy.nearest_city(lat_lng[0], lat_lng[1]).city_name\n",
    "    \n",
    "    # If the city is unique, then add it to a our cities list\n",
    "    if city not in cities:\n",
    "        cities.append(city)\n",
    "\n",
    "# Print the city count to confirm sufficient count\n",
    "len(cities)"
   ]
  },
  {
   "cell_type": "markdown",
   "metadata": {},
   "source": [
    "### Perform API Calls\n",
    "* Perform a weather check on each city using a series of successive API calls.\n",
    "* Include a print log of each city as it'sbeing processed (with the city number and city name).\n"
   ]
  },
  {
   "cell_type": "code",
   "execution_count": 3,
   "metadata": {
    "scrolled": true
   },
   "outputs": [],
   "source": [
    "#save config info\n",
    "url = \"http://api.openweathermap.org/data/2.5/weather?\"\n",
    "units = \"imperial\" \n",
    "\n",
    "#build partial query url\n",
    "query_url = f\"{url}appid={weather_api_key}&units={units}&q=\"\n"
   ]
  },
  {
   "cell_type": "code",
   "execution_count": 4,
   "metadata": {},
   "outputs": [
    {
     "name": "stdout",
     "output_type": "stream",
     "text": [
      "Record= 1: siniscola\n",
      "Record= 2: castro\n",
      "Record= 3: hambantota\n",
      "City not found.\n",
      "Record= 4: mataura\n",
      "Record= 5: bengkulu\n",
      "Record= 6: east london\n",
      "Record= 7: coalinga\n",
      "Record= 8: faanui\n",
      "Record= 9: salinopolis\n",
      "Record= 10: vilhena\n",
      "Record= 11: sergeyevka\n",
      "Record= 12: tiksi\n",
      "Record= 13: victoria\n",
      "Record= 14: inawashiro\n",
      "Record= 15: dikson\n",
      "Record= 16: georgetown\n",
      "Record= 17: ust-kuyga\n",
      "City not found.\n",
      "Record= 18: matara\n",
      "Record= 19: hobart\n",
      "Record= 20: vaini\n",
      "Record= 21: hithadhoo\n",
      "City not found.\n",
      "Record= 22: chernyshevskiy\n",
      "Record= 23: luanda\n",
      "Record= 24: busselton\n",
      "Record= 25: omsukchan\n",
      "Record= 26: isiro\n",
      "City not found.\n",
      "Record= 27: kysyl-syr\n",
      "City not found.\n",
      "Record= 28: leningradskiy\n",
      "Record= 29: coueron\n",
      "Record= 30: albany\n",
      "Record= 31: arraial do cabo\n",
      "Record= 32: mahebourg\n",
      "Record= 33: iquique\n",
      "Record= 34: bredasdorp\n",
      "Record= 35: rikitea\n",
      "Record= 36: nikolskoye\n",
      "Record= 37: fort nelson\n",
      "Record= 38: bushenyi\n",
      "Record= 39: hit\n",
      "City not found.\n",
      "Record= 40: yellowknife\n",
      "City not found.\n",
      "Record= 41: guerrero negro\n",
      "City not found.\n",
      "Record= 42: hilo\n",
      "Record= 43: yulara\n",
      "Record= 44: praia da vitoria\n",
      "Record= 45: norsup\n",
      "Record= 46: saint-georges\n",
      "Record= 47: aktau\n",
      "Record= 48: kodiak\n",
      "Record= 49: tasiilaq\n",
      "Record= 50: khatanga\n",
      "Record= 51: taoudenni\n",
      "Record= 52: biryusinsk\n",
      "Record= 53: ostrovnoy\n",
      "Record= 54: katsuura\n",
      "Record= 55: iracoubo\n",
      "Record= 56: rosarito\n",
      "City not found.\n",
      "Record= 57: tuktoyaktuk\n",
      "Record= 58: seymchan\n",
      "Record= 59: batemans bay\n",
      "City not found.\n",
      "Record= 60: kalmunai\n",
      "Record= 61: upernavik\n",
      "Record= 62: pevek\n",
      "Record= 63: utica\n",
      "Record= 64: atuona\n",
      "Record= 65: ushuaia\n",
      "Record= 66: chuy\n",
      "Record= 67: benguela\n",
      "Record= 68: anadyr\n",
      "Record= 69: lagoa\n",
      "Record= 70: cape town\n",
      "Record= 71: pouebo\n",
      "Record= 72: longyearbyen\n",
      "Record= 73: comodoro rivadavia\n",
      "Record= 74: bluff\n",
      "Record= 75: byron bay\n",
      "Record= 76: bullhead city\n",
      "Record= 77: port-gentil\n",
      "Record= 78: new norfolk\n",
      "Record= 79: saint-philippe\n",
      "Record= 80: urcos\n",
      "Record= 81: adrar\n",
      "Record= 82: bilibino\n",
      "Record= 83: hualmay\n",
      "City not found.\n",
      "Record= 84: torbay\n",
      "Record= 85: neryungri\n",
      "Record= 86: vagur\n",
      "Record= 87: ponta do sol\n",
      "Record= 88: avarua\n",
      "Record= 89: cumra\n",
      "Record= 90: los llanos de aridane\n",
      "Record= 91: husavik\n",
      "Record= 92: portland\n",
      "Record= 93: dicabisagan\n",
      "City not found.\n",
      "Record= 94: cockburn town\n",
      "Record= 95: iesolo\n",
      "Record= 96: jamestown\n",
      "Record= 97: bandarbeyla\n",
      "Record= 98: chokurdakh\n",
      "Record= 99: punta arenas\n",
      "Record= 100: natal\n",
      "Record= 101: zhigansk\n",
      "Record= 102: port macquarie\n",
      "Record= 103: puerto ayora\n",
      "Record= 104: port angeles\n",
      "Record= 105: butaritari\n",
      "Record= 106: namibe\n",
      "Record= 107: hermanus\n",
      "Record= 108: nizwa\n",
      "Record= 109: okhotsk\n",
      "Record= 110: zhangye\n",
      "Record= 111: samarai\n",
      "Record= 112: hillsboro\n",
      "Record= 113: baruun-urt\n",
      "Record= 114: dubovyy umet\n",
      "Record= 115: koslan\n",
      "Record= 116: vao\n",
      "Record= 117: kapaa\n",
      "Record= 118: wagar\n",
      "Record= 119: mirzapur\n",
      "Record= 120: ribeira grande\n",
      "Record= 121: florianopolis\n",
      "City not found.\n",
      "Record= 122: norman wells\n",
      "Record= 123: cornwall\n",
      "Record= 124: port alfred\n",
      "Record= 125: grants\n",
      "City not found.\n",
      "Record= 126: oktyabrskiy\n",
      "Record= 127: phuket\n",
      "Record= 128: souillac\n",
      "Record= 129: tupelo\n",
      "Record= 130: chiredzi\n",
      "Record= 131: port elizabeth\n",
      "Record= 132: mizdah\n",
      "Record= 133: grindavik\n",
      "Record= 134: lebu\n",
      "City not found.\n",
      "Record= 135: qaanaaq\n",
      "Record= 136: monrovia\n",
      "Record= 137: half moon bay\n",
      "Record= 138: carnarvon\n",
      "Record= 139: batticaloa\n",
      "Record= 140: dunmore town\n",
      "Record= 141: kazachinskoye\n",
      "Record= 142: beringovskiy\n",
      "Record= 143: sibolga\n",
      "Record= 144: acari\n",
      "Record= 145: masyaf\n",
      "Record= 146: labuhan\n",
      "Record= 147: ilulissat\n",
      "Record= 148: santa rosa\n",
      "Record= 149: saint-augustin\n",
      "Record= 150: dalbandin\n",
      "Record= 151: hammerfest\n",
      "Record= 152: batagay-alyta\n",
      "Record= 153: mount isa\n",
      "Record= 154: san patricio\n",
      "Record= 155: santa elena\n",
      "Record= 156: brae\n",
      "Record= 157: abu samrah\n",
      "Record= 158: villazon\n",
      "Record= 159: harper\n",
      "Record= 160: meulaboh\n",
      "Record= 161: lerwick\n",
      "Record= 162: talnakh\n",
      "Record= 163: touros\n",
      "Record= 164: mendeleyevsk\n",
      "City not found.\n",
      "Record= 165: miramar\n",
      "Record= 166: bethel\n",
      "City not found.\n",
      "Record= 167: kahului\n",
      "Record= 168: kyren\n",
      "Record= 169: saskylakh\n",
      "Record= 170: berbera\n",
      "City not found.\n",
      "Record= 171: kangaatsiaq\n",
      "Record= 172: provideniya\n",
      "Record= 173: evora\n",
      "Record= 174: zakamensk\n",
      "Record= 175: tarnogskiy gorodok\n",
      "Record= 176: vardo\n",
      "Record= 177: lazaro cardenas\n",
      "Record= 178: obihiro\n",
      "Record= 179: ucluelet\n",
      "Record= 180: alexandria\n",
      "Record= 181: shalinskoye\n",
      "Record= 182: inhambane\n",
      "Record= 183: lukovetskiy\n",
      "Record= 184: cheremnoye\n",
      "Record= 185: noumea\n",
      "Record= 186: oussouye\n",
      "Record= 187: sioux lookout\n",
      "Record= 188: angoche\n",
      "Record= 189: birao\n",
      "Record= 190: teya\n",
      "Record= 191: avera\n",
      "Record= 192: pozo colorado\n",
      "Record= 193: asfi\n",
      "Record= 194: thompson\n",
      "Record= 195: mar del plata\n",
      "Record= 196: rosetta\n",
      "Record= 197: lima\n",
      "Record= 198: salinas\n",
      "Record= 199: pyaozerskiy\n",
      "Record= 200: sitka\n",
      "Record= 201: iqaluit\n",
      "Record= 202: kaeo\n",
      "Record= 203: svetlaya\n",
      "Record= 204: sheridan\n",
      "Record= 205: hoyerswerda\n",
      "Record= 206: saint george\n",
      "Record= 207: pangody\n",
      "Record= 208: axim\n",
      "Record= 209: salym\n",
      "Record= 210: jorhat\n",
      "Record= 211: kaitangata\n",
      "Record= 212: vestmanna\n",
      "Record= 213: kavieng\n",
      "Record= 214: lompoc\n",
      "Record= 215: grand gaube\n",
      "Record= 216: coihaique\n",
      "Record= 217: ancud\n",
      "Record= 218: muros\n",
      "Record= 219: bang saphan\n",
      "Record= 220: kruisfontein\n",
      "Record= 221: nakhon phanom\n",
      "Record= 222: sovetskiy\n",
      "Record= 223: sobolevo\n",
      "Record= 224: barrow\n",
      "Record= 225: ginir\n",
      "Record= 226: porto walter\n",
      "Record= 227: nanzhang\n",
      "Record= 228: inverell\n",
      "Record= 229: ajdabiya\n",
      "Record= 230: guiratinga\n",
      "City not found.\n",
      "Record= 231: pinawa\n",
      "Record= 232: tautira\n",
      "Record= 233: yotoco\n",
      "Record= 234: basco\n",
      "Record= 235: bossangoa\n",
      "Record= 236: hovd\n",
      "Record= 237: tessalit\n",
      "Record= 238: hobyo\n",
      "Record= 239: lavrentiya\n",
      "Record= 240: korla\n",
      "Record= 241: severo-kurilsk\n",
      "Record= 242: buta\n",
      "Record= 243: hurricane\n",
      "Record= 244: prince rupert\n",
      "Record= 245: barbastro\n",
      "Record= 246: dubbo\n",
      "Record= 247: nishihara\n",
      "Record= 248: balakhta\n",
      "Record= 249: luwuk\n",
      "Record= 250: beaverlodge\n",
      "Record= 251: manokwari\n",
      "Record= 252: san remo\n",
      "Record= 253: airai\n",
      "Record= 254: virginia beach\n",
      "Record= 255: klaksvik\n",
      "Record= 256: huarmey\n",
      "Record= 257: vanino\n",
      "Record= 258: wanaka\n",
      "Record= 259: vila franca do campo\n",
      "Record= 260: westport\n",
      "Record= 261: great falls\n",
      "Record= 262: caravelas\n",
      "Record= 263: tuatapere\n",
      "Record= 264: moose factory\n",
      "Record= 265: poum\n",
      "Record= 266: qandala\n",
      "Record= 267: mecca\n",
      "Record= 268: peniche\n",
      "Record= 269: mayo\n",
      "Record= 270: johnson city\n",
      "Record= 271: novosineglazovskiy\n",
      "Record= 272: high rock\n",
      "Record= 273: providencia\n",
      "Record= 274: maragogi\n",
      "Record= 275: pizarro\n",
      "Record= 276: miri\n",
      "Record= 277: santa marta\n",
      "City not found.\n",
      "Record= 278: severo-yeniseyskiy\n",
      "Record= 279: coquimbo\n",
      "Record= 280: codrington\n",
      "Record= 281: muroto\n",
      "Record= 282: otautau\n",
      "Record= 283: nome\n",
      "City not found.\n",
      "Record= 284: lasem\n",
      "Record= 285: sandnessjoen\n",
      "Record= 286: santa barbara\n",
      "Record= 287: saint-francois\n",
      "Record= 288: donskoye\n",
      "Record= 289: fayaoue\n",
      "Record= 290: road town\n",
      "Record= 291: faya\n",
      "Record= 292: saldanha\n",
      "City not found.\n",
      "Record= 293: gweru\n",
      "Record= 294: muravlenko\n",
      "Record= 295: roald\n",
      "City not found.\n",
      "Record= 296: honiara\n",
      "Record= 297: gualaquiza\n",
      "Record= 298: darhan\n",
      "Record= 299: bambous virieux\n",
      "Record= 300: nanortalik\n",
      "Record= 301: la ronge\n",
      "Record= 302: bubaque\n",
      "Record= 303: necochea\n",
      "Record= 304: hasaki\n",
      "Record= 305: kununurra\n",
      "Record= 306: graaff-reinet\n",
      "Record= 307: zadar\n",
      "Record= 308: simbahan\n",
      "Record= 309: sarangani\n",
      "Record= 310: khambhat\n",
      "Record= 311: skuodas\n",
      "Record= 312: serebryansk\n",
      "Record= 313: college\n",
      "Record= 314: raudeberg\n",
      "Record= 315: valera\n",
      "Record= 316: merauke\n",
      "Record= 317: constitucion\n",
      "Record= 318: margate\n",
      "Record= 319: komsomolskiy\n",
      "Record= 320: dunedin\n",
      "Record= 321: yumen\n",
      "Record= 322: pisco\n",
      "Record= 323: zamora\n",
      "Record= 324: boguchany\n",
      "Record= 325: bonneville\n",
      "Record= 326: puerto colombia\n",
      "Record= 327: mae sot\n",
      "Record= 328: tallahassee\n",
      "Record= 329: skibbereen\n",
      "Record= 330: ciudad bolivar\n",
      "Record= 331: chingirlau\n",
      "Record= 332: aguimes\n",
      "Record= 333: sao filipe\n",
      "Record= 334: richards bay\n",
      "Record= 335: dingle\n",
      "Record= 336: krasnoselkup\n",
      "Record= 337: aksha\n",
      "Record= 338: kokopo\n",
      "Record= 339: yankton\n",
      "Record= 340: jacareacanga\n",
      "Record= 341: joaima\n",
      "Record= 342: matamoros\n",
      "Record= 343: cherskiy\n",
      "Record= 344: maniitsoq\n",
      "Record= 345: skagen\n",
      "Record= 346: joshimath\n",
      "Record= 347: boende\n",
      "Record= 348: raga\n",
      "Record= 349: sola\n",
      "Record= 350: san jose\n",
      "Record= 351: cabo san lucas\n",
      "Record= 352: satkhira\n",
      "City not found.\n"
     ]
    },
    {
     "name": "stdout",
     "output_type": "stream",
     "text": [
      "Record= 353: sao felix do xingu\n",
      "Record= 354: naze\n",
      "Record= 355: nara\n",
      "Record= 356: urumqi\n",
      "Record= 357: linjiang\n",
      "Record= 358: hami\n",
      "Record= 359: berlevag\n",
      "Record= 360: sao miguel do araguaia\n",
      "Record= 361: marienburg\n",
      "City not found.\n",
      "Record= 362: aykhal\n",
      "Record= 363: esperance\n",
      "Record= 364: lodja\n",
      "Record= 365: sulangan\n",
      "Record= 366: sao jose da coroa grande\n",
      "Record= 367: petropavlovsk-kamchatskiy\n",
      "Record= 368: thohoyandou\n",
      "Record= 369: akdepe\n",
      "Record= 370: hoi an\n",
      "Record= 371: conceicao do araguaia\n",
      "Record= 372: nabire\n",
      "Record= 373: abbeville\n",
      "Record= 374: aklavik\n",
      "Record= 375: vostok\n",
      "Record= 376: alofi\n",
      "Record= 377: presidencia roque saenz pena\n",
      "Record= 378: te anau\n",
      "Record= 379: sistranda\n",
      "Record= 380: geraldton\n",
      "Record= 381: tacuarembo\n",
      "Record= 382: nizhniy bestyakh\n",
      "Record= 383: santa luzia\n",
      "Record= 384: vuktyl\n",
      "Record= 385: boa vista\n",
      "Record= 386: sokolo\n",
      "Record= 387: sur\n",
      "Record= 388: zvishavane\n",
      "Record= 389: shelburne\n",
      "Record= 390: the pas\n",
      "City not found.\n",
      "Record= 391: isabela\n",
      "City not found.\n",
      "Record= 392: buala\n",
      "Record= 393: san cristobal\n",
      "Record= 394: bonthe\n",
      "Record= 395: biak\n",
      "City not found.\n",
      "Record= 396: sarahan\n",
      "Record= 397: sao joao da barra\n",
      "Record= 398: taltal\n",
      "Record= 399: baijiantan\n",
      "Record= 400: luganville\n",
      "Record= 401: itapecerica\n",
      "Record= 402: antalaha\n",
      "Record= 403: riohacha\n",
      "Record= 404: tura\n",
      "Record= 405: pangnirtung\n",
      "Record= 406: kavaratti\n",
      "Record= 407: mopipi\n",
      "Record= 408: ust-uda\n",
      "Record= 409: zyryanka\n",
      "Record= 410: groningen\n",
      "Record= 411: bonavista\n",
      "Record= 412: uelzen\n",
      "Record= 413: ciamis\n",
      "Record= 414: cascais\n",
      "City not found.\n",
      "Record= 415: rorvik\n",
      "Record= 416: flin flon\n",
      "Record= 417: lahaina\n",
      "Record= 418: kangaba\n",
      "Record= 419: kyra\n",
      "Record= 420: mehamn\n",
      "Record= 421: saint-louis\n",
      "Record= 422: mezen\n",
      "Record= 423: nyurba\n",
      "Record= 424: siparia\n",
      "Record= 425: flinders\n",
      "Record= 426: gongzhuling\n",
      "Record= 427: kasiri\n",
      "Record= 428: homer\n",
      "Record= 429: fort frances\n",
      "Record= 430: atkinson\n",
      "Record= 431: neuquen\n",
      "Record= 432: tazovskiy\n",
      "Record= 433: tomatlan\n",
      "Record= 434: cerqueira cesar\n",
      "Record= 435: the valley\n",
      "Record= 436: salalah\n",
      "Record= 437: porto velho\n",
      "Record= 438: west odessa\n",
      "Record= 439: nouadhibou\n",
      "Record= 440: dalvik\n",
      "Record= 441: la romana\n",
      "Record= 442: fairbanks\n",
      "Record= 443: dwarka\n",
      "Record= 444: batagay\n",
      "Record= 445: eyl\n",
      "Record= 446: dandong\n",
      "Record= 447: alice springs\n",
      "Record= 448: jaciara\n",
      "Record= 449: darab\n",
      "Record= 450: sabha\n",
      "Record= 451: conde\n",
      "Record= 452: bouna\n",
      "City not found.\n",
      "Record= 453: tigzirt\n",
      "Record= 454: naantali\n",
      "Record= 455: areka\n",
      "Record= 456: broken hill\n",
      "Record= 457: llanes\n",
      "City not found.\n",
      "Record= 458: galbshtadt\n",
      "Record= 459: portales\n",
      "City not found.\n",
      "Record= 460: laguna\n",
      "Record= 461: almaznyy\n",
      "Record= 462: tilichiki\n",
      "Record= 463: non thai\n",
      "Record= 464: ishigaki\n",
      "Record= 465: tual\n",
      "Record= 466: wenling\n",
      "Record= 467: abreus\n",
      "Record= 468: marzuq\n",
      "Record= 469: praya\n",
      "Record= 470: krasnooktyabrskiy\n",
      "Record= 471: bridlington\n",
      "Record= 472: saint augustine\n",
      "Record= 473: krutinka\n",
      "Record= 474: coahuayana\n",
      "Record= 475: khasan\n",
      "Record= 476: oriximina\n",
      "City not found.\n",
      "Record= 477: puerto leguizamo\n",
      "Record= 478: mayumba\n",
      "Record= 479: port hardy\n",
      "Record= 480: kismayo\n",
      "City not found.\n",
      "Record= 481: abomsa\n",
      "Record= 482: palmer\n",
      "Record= 483: elmadag\n",
      "Record= 484: belmonte\n",
      "Record= 485: kitsuki\n",
      "Record= 486: kilindoni\n",
      "Record= 487: kibala\n",
      "Record= 488: luorong\n",
      "City not found.\n",
      "Record= 489: bouza\n",
      "Record= 490: goulburn\n",
      "Record= 491: gisborne\n",
      "Record= 492: visby\n",
      "Record= 493: paita\n",
      "Record= 494: maneromango\n",
      "Record= 495: shumyachi\n",
      "Record= 496: valdosta\n",
      "Record= 497: muli\n",
      "Record= 498: mancio lima\n",
      "Record= 499: garissa\n",
      "Record= 500: keffi\n",
      "Record= 501: nacala\n",
      "Record= 502: ulaanbaatar\n",
      "City not found.\n",
      "Record= 503: manaus\n",
      "Record= 504: mulege\n",
      "Record= 505: brigantine\n",
      "Record= 506: ashqelon\n",
      "Record= 507: sinnamary\n",
      "Record= 508: khani\n",
      "Record= 509: deputatskiy\n",
      "Record= 510: opuwo\n",
      "Record= 511: lakes entrance\n",
      "Record= 512: cap malheureux\n",
      "Record= 513: mangrol\n",
      "Record= 514: walvis bay\n",
      "Record= 515: tanout\n",
      "Record= 516: amherst\n",
      "Record= 517: karasjok\n",
      "Record= 518: cervo\n",
      "Record= 519: namatanai\n",
      "Record= 520: umm kaddadah\n",
      "Record= 521: dhidhdhoo\n",
      "Record= 522: shambu\n",
      "Record= 523: luderitz\n",
      "Record= 524: savyntsi\n",
      "Record= 525: kirensk\n",
      "Record= 526: fez\n",
      "Record= 527: amapa\n",
      "Record= 528: hamilton\n",
      "Record= 529: uvinza\n",
      "Record= 530: rio grande\n",
      "City not found.\n",
      "Record= 531: nyimba\n",
      "Record= 532: kieta\n",
      "Record= 533: hastings\n",
      "Record= 534: marsh harbour\n",
      "Record= 535: shitanjing\n",
      "Record= 536: cayenne\n",
      "Record= 537: katangli\n",
      "City not found.\n",
      "Record= 538: agirish\n",
      "Record= 539: alta floresta\n",
      "Record= 540: roebourne\n",
      "Record= 541: najran\n",
      "Record= 542: lensk\n",
      "Record= 543: roma\n",
      "Record= 544: cidreira\n",
      "Record= 545: mazagao\n",
      "Record= 546: tuy hoa\n",
      "Record= 547: clyde river\n",
      "Record= 548: nayoro\n",
      "Record= 549: sechura\n",
      "Record= 550: vanimo\n",
      "Record= 551: tahta\n",
      "Record= 552: saint-paul\n",
      "Record= 553: fortuna\n",
      "Record= 554: mombasa\n",
      "Record= 555: belaya gora\n",
      "Record= 556: rezekne\n",
      "Record= 557: chabahar\n",
      "Record= 558: chelno-vershiny\n",
      "Record= 559: sept-iles\n",
      "Record= 560: mount gambier\n",
      "Record= 561: baiyin\n",
      "Record= 562: yokadouma\n",
      "Record= 563: parana\n",
      "Record= 564: khon buri\n",
      "Record= 565: mackay\n",
      "Record= 566: xinqing\n",
      "Record= 567: pudem\n",
      "Record= 568: salaga\n",
      "City not found.\n",
      "Record= 569: kungurtug\n",
      "Record= 570: beira\n",
      "Record= 571: zaraza\n",
      "Record= 572: watsa\n",
      "Record= 573: santa cruz\n",
      "Record= 574: mpika\n",
      "Record= 575: enshi\n",
      "Record= 576: monoharpur\n",
      "Record= 577: kurunegala\n",
      "Record= 578: vila\n",
      "Record= 579: sohag\n",
      "City not found.\n",
      "Record= 580: turukhansk\n"
     ]
    }
   ],
   "source": [
    "#set up empty lists to hold response info\n",
    "city_name = []\n",
    "lat = []\n",
    "temp = []\n",
    "lon = []\n",
    "humidity = []\n",
    "cloudiness = []\n",
    "wind_speed = []\n",
    "country = []\n",
    "index_counter = 0\n",
    "\n",
    "#loop through cities and request data \n",
    "for index, city in enumerate(cities, start = 1):\n",
    "    try:\n",
    "        response = requests.get(query_url + city).json()\n",
    "        city_name.append(response[\"name\"])\n",
    "        lat.append(response[\"coord\"][\"lat\"])\n",
    "        temp.append(response[\"main\"][\"temp_max\"])\n",
    "        lon.append(response[\"coord\"][\"lon\"])\n",
    "        humidity.append(response['main']['humidity'])\n",
    "        cloudiness.append(response[\"clouds\"][\"all\"])\n",
    "        wind_speed.append(response['wind']['speed'])\n",
    "        country.append(response['sys']['country'])\n",
    "        \n",
    "        #keep track of records \n",
    "        index_counter = index_counter + 1\n",
    "        \n",
    "        print(f\"Record= {index_counter}: {city}\")\n",
    "        \n",
    "    except(KeyError,IndexError):\n",
    "        print('City not found.')\n",
    "        \n",
    "\n",
    "        \n"
   ]
  },
  {
   "cell_type": "markdown",
   "metadata": {},
   "source": [
    "### Convert Raw Data to DataFrame\n",
    "* Export the city data into a .csv.\n",
    "* Display the DataFrame"
   ]
  },
  {
   "cell_type": "code",
   "execution_count": 5,
   "metadata": {},
   "outputs": [],
   "source": [
    "#create pandas dataframe\n",
    "weather_df=pd.DataFrame({\"City\": city_name,\n",
    "                       \"Latitude\": lat,\n",
    "                       \"Temperature\": temp,\n",
    "                       \"Longitude\": lon,\n",
    "                       \"Humidity\": humidity,\n",
    "                       \"Cloudiness\": cloudiness,\n",
    "                       \"Wind Speed\": wind_speed})\n",
    "weather_df.head()\n",
    "weather_df.count()\n",
    "\n",
    "#save city data into csv file \n",
    "weather_df.to_csv(output_data_file, index=False)"
   ]
  },
  {
   "cell_type": "markdown",
   "metadata": {},
   "source": [
    "## Inspect the data and remove the cities where the humidity > 100%.\n",
    "----\n",
    "Skip this step if there are no cities that have humidity > 100%. "
   ]
  },
  {
   "cell_type": "code",
   "execution_count": 6,
   "metadata": {},
   "outputs": [],
   "source": [
    "#  Get the indices of cities that have humidity over 100%.\n"
   ]
  },
  {
   "cell_type": "code",
   "execution_count": 7,
   "metadata": {},
   "outputs": [],
   "source": [
    "# Make a new DataFrame equal to the city data to drop all humidity outliers by index.\n",
    "# Passing \"inplace=False\" will make a copy of the city_data DataFrame, which we call \"clean_city_data\".\n"
   ]
  },
  {
   "cell_type": "markdown",
   "metadata": {},
   "source": [
    "## Plotting the Data\n",
    "* Use proper labeling of the plots using plot titles (including date of analysis) and axes labels.\n",
    "* Save the plotted figures as .pngs."
   ]
  },
  {
   "cell_type": "markdown",
   "metadata": {},
   "source": [
    "## Latitude vs. Temperature Plot"
   ]
  },
  {
   "cell_type": "code",
   "execution_count": 8,
   "metadata": {
    "scrolled": true
   },
   "outputs": [
    {
     "data": {
      "image/png": "[encoded data removed]",
      "text/plain": [
       "<Figure size 432x288 with 1 Axes>"
      ]
     },
     "metadata": {
      "needs_background": "light"
     },
     "output_type": "display_data"
    }
   ],
   "source": [
    "#create latitude vs. Temperature scatter plot\n",
    "plt.scatter(weather_df[\"Latitude\"],weather_df[\"Temperature\"])\n",
    "\n",
    "#create title\n",
    "plt.title(\"City Latitude vs. Temperature\")\n",
    "\n",
    "#create x and y axis labels\n",
    "plt.xlabel(\"Latitude\")\n",
    "plt.ylabel(\"Temperature (F)\")\n",
    "\n",
    "plt.show()\n"
   ]
  },
  {
   "cell_type": "markdown",
   "metadata": {},
   "source": [
    "## Latitude vs. Humidity Plot"
   ]
  },
  {
   "cell_type": "code",
   "execution_count": 9,
   "metadata": {},
   "outputs": [
    {
     "data": {
      "image/png": "[encoded data removed]",
      "text/plain": [
       "<Figure size 432x288 with 1 Axes>"
      ]
     },
     "metadata": {
      "needs_background": "light"
     },
     "output_type": "display_data"
    }
   ],
   "source": [
    "#create latitude vs. Temperature scatter plot\n",
    "plt.scatter(weather_df[\"Latitude\"],weather_df[\"Humidity\"])\n",
    "\n",
    "#create title\n",
    "plt.title(\"City Latitude vs. Humidity\")\n",
    "\n",
    "#create x and y axis labels\n",
    "plt.xlabel(\"Latitude\")\n",
    "plt.ylabel(\"Humidity\")\n",
    "\n",
    "plt.show()"
   ]
  },
  {
   "cell_type": "markdown",
   "metadata": {},
   "source": [
    "## Latitude vs. Cloudiness Plot"
   ]
  },
  {
   "cell_type": "code",
   "execution_count": 10,
   "metadata": {},
   "outputs": [
    {
     "data": {
      "image/png": "[encoded data removed]",
      "text/plain": [
       "<Figure size 432x288 with 1 Axes>"
      ]
     },
     "metadata": {
      "needs_background": "light"
     },
     "output_type": "display_data"
    }
   ],
   "source": [
    "#create latitude vs. Temperature scatter plot\n",
    "plt.scatter(weather_df[\"Latitude\"],weather_df[\"Cloudiness\"])\n",
    "\n",
    "#create title\n",
    "plt.title(\"City Latitude vs. Cloudiness\")\n",
    "\n",
    "#create x and y axis labels\n",
    "plt.xlabel(\"Latitude\")\n",
    "plt.ylabel(\"Cloudiness\")\n",
    "\n",
    "plt.show()"
   ]
  },
  {
   "cell_type": "markdown",
   "metadata": {},
   "source": [
    "## Latitude vs. Wind Speed Plot"
   ]
  },
  {
   "cell_type": "code",
   "execution_count": 11,
   "metadata": {},
   "outputs": [
    {
     "data": {
      "image/png": "[encoded data removed]",
      "text/plain": [
       "<Figure size 432x288 with 1 Axes>"
      ]
     },
     "metadata": {
      "needs_background": "light"
     },
     "output_type": "display_data"
    }
   ],
   "source": [
    "plt.scatter(weather_df[\"Latitude\"],weather_df[\"Wind Speed\"])\n",
    "\n",
    "#create title\n",
    "plt.title(\"City Latitude vs. Wind Speed\")\n",
    "\n",
    "#create x and y axis labels\n",
    "plt.xlabel(\"Latitude\")\n",
    "plt.ylabel(\"Wind Speed\")\n",
    "\n",
    "plt.show()"
   ]
  },
  {
   "cell_type": "markdown",
   "metadata": {},
   "source": [
    "## Linear Regression"
   ]
  },
  {
   "cell_type": "code",
   "execution_count": 12,
   "metadata": {},
   "outputs": [],
   "source": [
    "#create southern and northern hemisphere dataframes\n",
    "northern_hem = weather_df.loc[weather_df[\"Latitude\"] >=0]\n",
    "southern_hem = weather_df.loc[weather_df[\"Latitude\"] < 0]\n"
   ]
  },
  {
   "cell_type": "markdown",
   "metadata": {},
   "source": [
    "####  Northern Hemisphere - Max Temp vs. Latitude Linear Regression"
   ]
  },
  {
   "cell_type": "code",
   "execution_count": 14,
   "metadata": {},
   "outputs": [
    {
     "name": "stdout",
     "output_type": "stream",
     "text": [
      "The correlation between both factors is -0.86\n",
      "y = -0.53 x + 58.89\n"
     ]
    },
    {
     "data": {
      "text/plain": [
       "[<matplotlib.lines.Line2D at 0x23150318640>]"
      ]
     },
     "execution_count": 14,
     "metadata": {},
     "output_type": "execute_result"
    },
    {
     "data": {
      "image/png": "[encoded data removed]",
      "text/plain": [
       "<Figure size 432x288 with 1 Axes>"
      ]
     },
     "metadata": {
      "needs_background": "light"
     },
     "output_type": "display_data"
    }
   ],
   "source": [
    "x_values = northern_hem['Temperature']\n",
    "y_values = northern_hem['Latitude']\n",
    "\n",
    "#calculate and print correlation coefficient\n",
    "correlation = st.pearsonr(x_values,y_values)\n",
    "print(f\"The correlation between both factors is {round(correlation[0],2)}\")\n",
    "\n",
    "#calculation linear regression\n",
    "(slope, intercept, rvalue, pvalue, stderr)=linregress(x_values,y_values)\n",
    "\n",
    "regress_values = x_values * slope + intercept\n",
    "\n",
    "line_eq = f\"y = {round(slope,2)} x + {round(intercept,2)}\"\n",
    "\n",
    "#print line equation\n",
    "print(line_eq)\n",
    "\n",
    "plt.scatter(x_values,y_values)\n",
    "plt.plot(x_values,regress_values,\"g-\")"
   ]
  },
  {
   "cell_type": "markdown",
   "metadata": {},
   "source": [
    "####  Southern Hemisphere - Max Temp vs. Latitude Linear Regression"
   ]
  },
  {
   "cell_type": "code",
   "execution_count": 15,
   "metadata": {},
   "outputs": [
    {
     "name": "stdout",
     "output_type": "stream",
     "text": [
      "The correlation between both factors is 0.59\n",
      "y = 0.97 x + -91.68\n"
     ]
    },
    {
     "data": {
      "text/plain": [
       "[<matplotlib.lines.Line2D at 0x23150381610>]"
      ]
     },
     "execution_count": 15,
     "metadata": {},
     "output_type": "execute_result"
    },
    {
     "data": {
      "image/png": "[encoded data removed]",
      "text/plain": [
       "<Figure size 432x288 with 1 Axes>"
      ]
     },
     "metadata": {
      "needs_background": "light"
     },
     "output_type": "display_data"
    }
   ],
   "source": [
    "x_values = southern_hem['Temperature']\n",
    "y_values = southern_hem['Latitude']\n",
    "\n",
    "#calculate and print correlation coefficient\n",
    "correlation = st.pearsonr(x_values,y_values)\n",
    "print(f\"The correlation between both factors is {round(correlation[0],2)}\")\n",
    "\n",
    "#calculation linear regression\n",
    "(slope, intercept, rvalue, pvalue, stderr)=linregress(x_values,y_values)\n",
    "\n",
    "regress_values = x_values * slope + intercept\n",
    "\n",
    "line_eq = f\"y = {round(slope,2)} x + {round(intercept,2)}\"\n",
    "\n",
    "#print line equation\n",
    "print(line_eq)\n",
    "\n",
    "plt.scatter(x_values,y_values)\n",
    "plt.plot(x_values,regress_values,\"g-\")"
   ]
  },
  {
   "cell_type": "markdown",
   "metadata": {},
   "source": [
    "####  Northern Hemisphere - Humidity (%) vs. Latitude Linear Regression"
   ]
  },
  {
   "cell_type": "code",
   "execution_count": 16,
   "metadata": {},
   "outputs": [
    {
     "name": "stdout",
     "output_type": "stream",
     "text": [
      "The correlation between both factors is 0.28\n",
      "y = 0.29 x + 18.47\n"
     ]
    },
    {
     "data": {
      "text/plain": [
       "[<matplotlib.lines.Line2D at 0x231503e71c0>]"
      ]
     },
     "execution_count": 16,
     "metadata": {},
     "output_type": "execute_result"
    },
    {
     "data": {
      "image/png": "[encoded data removed]",
      "text/plain": [
       "<Figure size 432x288 with 1 Axes>"
      ]
     },
     "metadata": {
      "needs_background": "light"
     },
     "output_type": "display_data"
    }
   ],
   "source": [
    "x_values = northern_hem['Humidity']\n",
    "y_values = northern_hem['Latitude']\n",
    "\n",
    "#calculate and print correlation coefficient\n",
    "correlation = st.pearsonr(x_values,y_values)\n",
    "print(f\"The correlation between both factors is {round(correlation[0],2)}\")\n",
    "\n",
    "#calculation linear regression\n",
    "(slope, intercept, rvalue, pvalue, stderr)=linregress(x_values,y_values)\n",
    "\n",
    "regress_values = x_values * slope + intercept\n",
    "\n",
    "line_eq = f\"y = {round(slope,2)} x + {round(intercept,2)}\"\n",
    "\n",
    "#print line equation\n",
    "print(line_eq)\n",
    "\n",
    "plt.scatter(x_values,y_values)\n",
    "plt.plot(x_values,regress_values,\"g-\")"
   ]
  },
  {
   "cell_type": "markdown",
   "metadata": {},
   "source": [
    "####  Southern Hemisphere - Humidity (%) vs. Latitude Linear Regression"
   ]
  },
  {
   "cell_type": "code",
   "execution_count": 17,
   "metadata": {},
   "outputs": [
    {
     "name": "stdout",
     "output_type": "stream",
     "text": [
      "The correlation between both factors is 0.19\n",
      "y = 0.17 x + -33.2\n"
     ]
    },
    {
     "data": {
      "text/plain": [
       "[<matplotlib.lines.Line2D at 0x2315043f7f0>]"
      ]
     },
     "execution_count": 17,
     "metadata": {},
     "output_type": "execute_result"
    },
    {
     "data": {
      "image/png": "[encoded data removed]",
      "text/plain": [
       "<Figure size 432x288 with 1 Axes>"
      ]
     },
     "metadata": {
      "needs_background": "light"
     },
     "output_type": "display_data"
    }
   ],
   "source": [
    "x_values = southern_hem['Humidity']\n",
    "y_values = southern_hem['Latitude']\n",
    "\n",
    "#calculate and print correlation coefficient\n",
    "correlation = st.pearsonr(x_values,y_values)\n",
    "print(f\"The correlation between both factors is {round(correlation[0],2)}\")\n",
    "\n",
    "#calculation linear regression\n",
    "(slope, intercept, rvalue, pvalue, stderr)=linregress(x_values,y_values)\n",
    "\n",
    "regress_values = x_values * slope + intercept\n",
    "\n",
    "line_eq = f\"y = {round(slope,2)} x + {round(intercept,2)}\"\n",
    "\n",
    "#print line equation\n",
    "print(line_eq)\n",
    "\n",
    "plt.scatter(x_values,y_values)\n",
    "plt.plot(x_values,regress_values,\"g-\")"
   ]
  },
  {
   "cell_type": "markdown",
   "metadata": {},
   "source": [
    "####  Northern Hemisphere - Cloudiness (%) vs. Latitude Linear Regression"
   ]
  },
  {
   "cell_type": "code",
   "execution_count": 18,
   "metadata": {},
   "outputs": [
    {
     "name": "stdout",
     "output_type": "stream",
     "text": [
      "The correlation between both factors is 0.16\n",
      "y = 0.08 x + 34.79\n"
     ]
    },
    {
     "data": {
      "text/plain": [
       "[<matplotlib.lines.Line2D at 0x231504a13d0>]"
      ]
     },
     "execution_count": 18,
     "metadata": {},
     "output_type": "execute_result"
    },
    {
     "data": {
      "image/png": "[encoded data removed]",
      "text/plain": [
       "<Figure size 432x288 with 1 Axes>"
      ]
     },
     "metadata": {
      "needs_background": "light"
     },
     "output_type": "display_data"
    }
   ],
   "source": [
    "x_values = northern_hem['Cloudiness']\n",
    "y_values = northern_hem['Latitude']\n",
    "\n",
    "#calculate and print correlation coefficient\n",
    "correlation = st.pearsonr(x_values,y_values)\n",
    "print(f\"The correlation between both factors is {round(correlation[0],2)}\")\n",
    "\n",
    "#calculation linear regression\n",
    "(slope, intercept, rvalue, pvalue, stderr)=linregress(x_values,y_values)\n",
    "\n",
    "regress_values = x_values * slope + intercept\n",
    "\n",
    "line_eq = f\"y = {round(slope,2)} x + {round(intercept,2)}\"\n",
    "\n",
    "#print line equation\n",
    "print(line_eq)\n",
    "\n",
    "plt.scatter(x_values,y_values)\n",
    "plt.plot(x_values,regress_values,\"g-\")"
   ]
  },
  {
   "cell_type": "markdown",
   "metadata": {},
   "source": [
    "####  Southern Hemisphere - Cloudiness (%) vs. Latitude Linear Regression"
   ]
  },
  {
   "cell_type": "code",
   "execution_count": 19,
   "metadata": {},
   "outputs": [
    {
     "name": "stdout",
     "output_type": "stream",
     "text": [
      "The correlation between both factors is 0.31\n",
      "y = 0.11 x + -25.83\n"
     ]
    },
    {
     "data": {
      "text/plain": [
       "[<matplotlib.lines.Line2D at 0x2315041ac10>]"
      ]
     },
     "execution_count": 19,
     "metadata": {},
     "output_type": "execute_result"
    },
    {
     "data": {
      "image/png": "[encoded data removed]",
      "text/plain": [
       "<Figure size 432x288 with 1 Axes>"
      ]
     },
     "metadata": {
      "needs_background": "light"
     },
     "output_type": "display_data"
    }
   ],
   "source": [
    "x_values = southern_hem['Cloudiness']\n",
    "y_values = southern_hem['Latitude']\n",
    "\n",
    "#calculate and print correlation coefficient\n",
    "correlation = st.pearsonr(x_values,y_values)\n",
    "print(f\"The correlation between both factors is {round(correlation[0],2)}\")\n",
    "\n",
    "#calculation linear regression\n",
    "(slope, intercept, rvalue, pvalue, stderr)=linregress(x_values,y_values)\n",
    "\n",
    "regress_values = x_values * slope + intercept\n",
    "\n",
    "line_eq = f\"y = {round(slope,2)} x + {round(intercept,2)}\"\n",
    "\n",
    "#print line equation\n",
    "print(line_eq)\n",
    "\n",
    "plt.scatter(x_values,y_values)\n",
    "plt.plot(x_values,regress_values,\"g-\")"
   ]
  },
  {
   "cell_type": "markdown",
   "metadata": {},
   "source": [
    "####  Northern Hemisphere - Wind Speed (mph) vs. Latitude Linear Regression"
   ]
  },
  {
   "cell_type": "code",
   "execution_count": 20,
   "metadata": {},
   "outputs": [
    {
     "name": "stdout",
     "output_type": "stream",
     "text": [
      "The correlation between both factors is 0.06\n",
      "y = 0.23 x + 37.13\n"
     ]
    },
    {
     "data": {
      "text/plain": [
       "[<matplotlib.lines.Line2D at 0x2314fdff760>]"
      ]
     },
     "execution_count": 20,
     "metadata": {},
     "output_type": "execute_result"
    },
    {
     "data": {
      "image/png": "[encoded data removed]",
      "text/plain": [
       "<Figure size 432x288 with 1 Axes>"
      ]
     },
     "metadata": {
      "needs_background": "light"
     },
     "output_type": "display_data"
    }
   ],
   "source": [
    "x_values = northern_hem['Wind Speed']\n",
    "y_values = northern_hem['Latitude']\n",
    "\n",
    "#calculate and print correlation coefficient\n",
    "correlation = st.pearsonr(x_values,y_values)\n",
    "print(f\"The correlation between both factors is {round(correlation[0],2)}\")\n",
    "\n",
    "#calculation linear regression\n",
    "(slope, intercept, rvalue, pvalue, stderr)=linregress(x_values,y_values)\n",
    "\n",
    "regress_values = x_values * slope + intercept\n",
    "\n",
    "line_eq = f\"y = {round(slope,2)} x + {round(intercept,2)}\"\n",
    "\n",
    "#print line equation\n",
    "print(line_eq)\n",
    "\n",
    "plt.scatter(x_values,y_values)\n",
    "plt.plot(x_values,regress_values,\"g-\")"
   ]
  },
  {
   "cell_type": "markdown",
   "metadata": {},
   "source": [
    "####  Southern Hemisphere - Wind Speed (mph) vs. Latitude Linear Regression"
   ]
  },
  {
   "cell_type": "code",
   "execution_count": 21,
   "metadata": {},
   "outputs": [
    {
     "name": "stdout",
     "output_type": "stream",
     "text": [
      "The correlation between both factors is -0.1\n",
      "y = -0.28 x + -18.02\n"
     ]
    },
    {
     "data": {
      "text/plain": [
       "[<matplotlib.lines.Line2D at 0x2314fd32c10>]"
      ]
     },
     "execution_count": 21,
     "metadata": {},
     "output_type": "execute_result"
    },
    {
     "data": {
      "image/png": "[encoded data removed]",
      "text/plain": [
       "<Figure size 432x288 with 1 Axes>"
      ]
     },
     "metadata": {
      "needs_background": "light"
     },
     "output_type": "display_data"
    }
   ],
   "source": [
    "x_values = southern_hem['Wind Speed']\n",
    "y_values = southern_hem['Latitude']\n",
    "\n",
    "#calculate and print correlation coefficient\n",
    "correlation = st.pearsonr(x_values,y_values)\n",
    "print(f\"The correlation between both factors is {round(correlation[0],2)}\")\n",
    "\n",
    "#calculation linear regression\n",
    "(slope, intercept, rvalue, pvalue, stderr)=linregress(x_values,y_values)\n",
    "\n",
    "regress_values = x_values * slope + intercept\n",
    "\n",
    "line_eq = f\"y = {round(slope,2)} x + {round(intercept,2)}\"\n",
    "\n",
    "#print line equation\n",
    "print(line_eq)\n",
    "\n",
    "plt.scatter(x_values,y_values)\n",
    "plt.plot(x_values,regress_values,\"g-\")"
   ]
  },
  {
   "cell_type": "code",
   "execution_count": null,
   "metadata": {},
   "outputs": [],
   "source": []
  }
 ],
 "metadata": {
  "anaconda-cloud": {},
  "kernel_info": {
   "name": "python3"
  },
  "kernelspec": {
   "display_name": "Python 3",
   "language": "python",
   "name": "python3"
  },
  "language_info": {
   "codemirror_mode": {
    "name": "ipython",
    "version": 3
   },
   "file_extension": ".py",
   "mimetype": "text/x-python",
   "name": "python",
   "nbconvert_exporter": "python",
   "pygments_lexer": "ipython3",
   "version": "3.8.5"
  },
  "latex_envs": {
   "LaTeX_envs_menu_present": true,
   "autoclose": false,
   "autocomplete": true,
   "bibliofile": "biblio.bib",
   "cite_by": "apalike",
   "current_citInitial": 1,
   "eqLabelWithNumbers": true,
   "eqNumInitial": 1,
   "hotkeys": {
    "equation": "Ctrl-E",
    "itemize": "Ctrl-I"
   },
   "labels_anchors": false,
   "latex_user_defs": false,
   "report_style_numbering": false,
   "user_envs_cfg": false
  },
  "nteract": {
   "version": "0.12.3"
  }
 },
 "nbformat": 4,
 "nbformat_minor": 2
}
